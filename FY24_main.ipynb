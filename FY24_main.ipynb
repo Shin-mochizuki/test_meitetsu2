{
 "cells": [
  {
   "cell_type": "code",
   "execution_count": 1,
   "id": "608467d7-1702-4a66-a992-d0938d8b9050",
   "metadata": {},
   "outputs": [],
   "source": [
    "# =========================\n",
    "# Standard library\n",
    "# =========================\n",
    "import collections\n",
    "import datetime\n",
    "import io\n",
    "import math\n",
    "import os\n",
    "import shutil\n",
    "import textwrap\n",
    "import warnings\n",
    "\n",
    "# =========================\n",
    "# Third-party libraries\n",
    "# =========================\n",
    "# Data science\n",
    "import numpy as np\n",
    "import pandas as pd\n",
    "from scipy.stats import ttest_ind\n",
    "\n",
    "# Plotting\n",
    "import matplotlib\n",
    "import matplotlib.pyplot as plt\n",
    "import seaborn as sns\n",
    "\n",
    "# Images / PDF\n",
    "import fitz  # PyMuPDF\n",
    "from PIL import Image\n",
    "from PyPDF2 import PdfFileReader, PdfFileWriter, PdfMerger\n",
    "\n",
    "# Report generation (ReportLab)\n",
    "from reportlab.lib import colors\n",
    "from reportlab.lib.pagesizes import A1, A3, A4, portrait, landscape\n",
    "from reportlab.lib.styles import getSampleStyleSheet, ParagraphStyle\n",
    "from reportlab.lib.units import mm\n",
    "from reportlab.pdfbase import pdfmetrics\n",
    "from reportlab.pdfbase.cidfonts import UnicodeCIDFont\n",
    "from reportlab.pdfbase.pdfmetrics import registerFont\n",
    "from reportlab.pdfgen import canvas\n",
    "from reportlab.platypus import Table, TableStyle, Paragraph, ListFlowable, ListItem\n",
    "from reportlab.pdfbase.ttfonts import TTFont\n",
    "\n",
    "# Excel\n",
    "import openpyxl\n",
    "from openpyxl.drawing.image import Image as open_Image\n",
    "from openpyxl.styles import PatternFill\n",
    "\n",
    "# Utilities\n",
    "from tqdm.notebook import tqdm\n",
    "\n",
    "# =========================\n",
    "# Local packages\n",
    "# =========================\n",
    "from lib.data.db import *\n",
    "from lib.data.course_data import *\n",
    "from lib.sql import *\n",
    "from lib.setting import *\n",
    "\n",
    "# =========================\n",
    "# Runtime config\n",
    "# =========================\n",
    "warnings.simplefilter('ignore')\n",
    "sns.set(font='Hiragino Sans')\n",
    "# HeiseiKakuGo-W5 をPDF用に登録\n",
    "pdfmetrics.registerFont(UnicodeCIDFont(\"HeiseiKakuGo-W5\"))\n",
    "\n",
    "# （Jupyter 環境の場合のみ）\n",
    "%matplotlib inline\n",
    "\n",
    "# # オプション:\n",
    "# # import japanize_matplotlib\n",
    "# # sns.set_style('whitegrid')\n"
   ]
  },
  {
   "cell_type": "markdown",
   "id": "b4c4d43a-2e14-4367-934e-a72a9741c7cf",
   "metadata": {},
   "source": [
    "# 概要"
   ]
  },
  {
   "cell_type": "markdown",
   "id": "67cdeba7-0974-42a5-99f2-2a8d1c74cf9c",
   "metadata": {},
   "source": [
    "--作業内容--\n",
    "\n",
    "1. コンピデータ確認\n",
    "2. プロット作成\n",
    "3. p3(コンピページ作成)\n",
    "4. p2部分のExcelに代入\n",
    "    1. コピー作成\n",
    "    2. 一つ一つ開いて代入\n",
    "    3. 保存してPDF保存\n",
    "4. 元々のやつと合体"
   ]
  },
  {
   "cell_type": "markdown",
   "id": "4cc9da04-2569-49ed-bb8c-222455b6e4b9",
   "metadata": {},
   "source": [
    "# データチェック"
   ]
  },
  {
   "cell_type": "code",
   "execution_count": 2,
   "id": "d4555a8c-f683-48b6-9b56-55a58fdee3a0",
   "metadata": {},
   "outputs": [
    {
     "name": "stdout",
     "output_type": "stream",
     "text": [
      "flag_data数 (489, 6)\n",
      "merge後 (489, 49)\n"
     ]
    }
   ],
   "source": [
    "# データ読み込み\n",
    "score = pd.read_csv(\"import/F1040-03_2024-11-07 00:00:00_2024年度360度評価_補正済みスコア.csv\")\n",
    "flag_1 = pd.read_excel(\"import/所属追加_F1040名古屋鉄道株式会社様_ユーザーリスト.xlsx\",sheet_name=\"1.ユーザー情報\",dtype={\"社員番号\":str})\n",
    "\n",
    "# 必要フラグ = [['姓', '名','社員番号',\"所属\",\"役職分類\\n(社内)\"]]\n",
    "flag_1 = flag_1[['姓', '名','社員番号',\"所属\",\"役職分類\\n(社内)\"]]\n",
    "# 所属.notna()\n",
    "flag_1 = flag_1[flag_1[\"所属\"].notna()].reset_index(drop=True)\n",
    "# 氏名作成\n",
    "flag_1[\"氏名\"] = flag_1[\"姓\"] + flag_1[\"名\"]\n",
    "\n",
    "\n",
    "# merge()\n",
    "meitestsu_dat = flag_1.merge(score,on=\"氏名\")\n",
    "\n",
    "# データ数チェック\n",
    "print(\"flag_data数\",flag_1.shape)\n",
    "print(\"merge後\",meitestsu_dat.shape)\n",
    "\n",
    "# columns整理\n",
    "meitestsu_dat.rename(columns={\"flag_id\":\"Evaluatee Flag ID\"},inplace=True)"
   ]
  },
  {
   "cell_type": "code",
   "execution_count": 3,
   "id": "c51659fb-3217-4708-b872-419558fcc70c",
   "metadata": {},
   "outputs": [],
   "source": [
    "# 名鉄測定項目\n",
    "meitetsu_cn = ['課題設定', '創造性', '論理的思考', '個人的実行力', 'ヴィジョン',\n",
    "       '成長', '耐性', '感情コントロール', '決断力', '共感・傾聴力', '外交性', '影響力の行使', '情熱・宣教力',\n",
    "       '組織への働きかけ', '誠実さ']\n",
    "meitetsu_cn_self = ['課題設定（自己評価）', '創造性（自己評価）', '論理的思考（自己評価）',\n",
    "       '個人的実行力（自己評価）', 'ヴィジョン（自己評価）', '成長（自己評価）', '耐性（自己評価）', '感情コントロール（自己評価）',\n",
    "       '決断力（自己評価）', '共感・傾聴力（自己評価）', '外交性（自己評価）', '影響力の行使（自己評価）',\n",
    "       '情熱・宣教力（自己評価）', '組織への働きかけ（自己評価）', '誠実さ（自己評価）']\n",
    "\n",
    "# 自己他者gap\n",
    "sel_oth_gap_list = [i+\"_sel_oth_gap\" for i in meitetsu_cn]\n",
    "\n",
    "for i,j in zip(meitetsu_cn,meitetsu_cn_self):\n",
    "    meitestsu_dat[f\"{i}_sel_oth_gap\"] = meitestsu_dat[i] - meitestsu_dat[j]"
   ]
  },
  {
   "cell_type": "code",
   "execution_count": 4,
   "id": "6381c5bb-2f06-4b5a-82f7-7051f27d9f57",
   "metadata": {},
   "outputs": [],
   "source": [
    "# 等級ごと平均値算出\n",
    "# グレード調整\n",
    "\"\"\"\n",
    "【G8】Ｍ１      27\n",
    "ーーーーーーーーーーーーーーーーーー\n",
    "【G7】Ｍ２      68\n",
    "ーーーーーーーーーーーーーーーーーー\n",
    "【G6】Ｍ３     125／ＧＭ３      1\n",
    "ーーーーーーーーーーーーーーーーーー\n",
    "【G4】Ｍ４     116\n",
    "ーーーーーーーーーーーーーーーーーー\n",
    "【G2】ＭＳ１    118／ＭＳ２     34\n",
    "\"\"\"\n",
    "tmp_dict = {\n",
    "    \"ＧＭ３\":\"Ｍ３/ＧＭ３\",\n",
    "    \"Ｍ３\":\"Ｍ３/ＧＭ３\",\n",
    "    \"ＭＳ２\":\"ＭＳ１/２\",\n",
    "    \"ＭＳ１\":\"ＭＳ１/２\",\n",
    "}\n",
    "meitestsu_dat[\"grade_IGS調整\"] = meitestsu_dat[\"役職分類\\n(社内)\"].replace(tmp_dict)\n",
    "\n",
    "grade_median_table = meitestsu_dat.groupby(\"grade_IGS調整\")[meitetsu_cn].median()"
   ]
  },
  {
   "cell_type": "code",
   "execution_count": 5,
   "id": "6a06de6e-7957-467c-b30c-856606216d30",
   "metadata": {},
   "outputs": [
    {
     "data": {
      "text/html": [
       "<div>\n",
       "<style scoped>\n",
       "    .dataframe tbody tr th:only-of-type {\n",
       "        vertical-align: middle;\n",
       "    }\n",
       "\n",
       "    .dataframe tbody tr th {\n",
       "        vertical-align: top;\n",
       "    }\n",
       "\n",
       "    .dataframe thead th {\n",
       "        text-align: right;\n",
       "    }\n",
       "</style>\n",
       "<table border=\"1\" class=\"dataframe\">\n",
       "  <thead>\n",
       "    <tr style=\"text-align: right;\">\n",
       "      <th></th>\n",
       "      <th>課題設定</th>\n",
       "      <th>創造性</th>\n",
       "      <th>論理的思考</th>\n",
       "      <th>個人的実行力</th>\n",
       "      <th>ヴィジョン</th>\n",
       "      <th>成長</th>\n",
       "      <th>耐性</th>\n",
       "      <th>感情コントロール</th>\n",
       "      <th>決断力</th>\n",
       "      <th>共感・傾聴力</th>\n",
       "      <th>外交性</th>\n",
       "      <th>影響力の行使</th>\n",
       "      <th>情熱・宣教力</th>\n",
       "      <th>組織への働きかけ</th>\n",
       "      <th>誠実さ</th>\n",
       "    </tr>\n",
       "    <tr>\n",
       "      <th>grade_IGS調整</th>\n",
       "      <th></th>\n",
       "      <th></th>\n",
       "      <th></th>\n",
       "      <th></th>\n",
       "      <th></th>\n",
       "      <th></th>\n",
       "      <th></th>\n",
       "      <th></th>\n",
       "      <th></th>\n",
       "      <th></th>\n",
       "      <th></th>\n",
       "      <th></th>\n",
       "      <th></th>\n",
       "      <th></th>\n",
       "      <th></th>\n",
       "    </tr>\n",
       "  </thead>\n",
       "  <tbody>\n",
       "    <tr>\n",
       "      <th>Ｍ１</th>\n",
       "      <td>75.310345</td>\n",
       "      <td>65.666501</td>\n",
       "      <td>79.662628</td>\n",
       "      <td>77.444457</td>\n",
       "      <td>71.615830</td>\n",
       "      <td>66.978728</td>\n",
       "      <td>81.460344</td>\n",
       "      <td>77.199423</td>\n",
       "      <td>80.327408</td>\n",
       "      <td>68.176249</td>\n",
       "      <td>83.690600</td>\n",
       "      <td>79.267858</td>\n",
       "      <td>77.463700</td>\n",
       "      <td>77.204821</td>\n",
       "      <td>81.857710</td>\n",
       "    </tr>\n",
       "    <tr>\n",
       "      <th>Ｍ２</th>\n",
       "      <td>78.276415</td>\n",
       "      <td>64.648386</td>\n",
       "      <td>75.585983</td>\n",
       "      <td>75.715986</td>\n",
       "      <td>70.898229</td>\n",
       "      <td>66.887935</td>\n",
       "      <td>80.367661</td>\n",
       "      <td>74.033936</td>\n",
       "      <td>76.904053</td>\n",
       "      <td>70.616040</td>\n",
       "      <td>80.015755</td>\n",
       "      <td>74.669502</td>\n",
       "      <td>72.251054</td>\n",
       "      <td>73.680235</td>\n",
       "      <td>79.419497</td>\n",
       "    </tr>\n",
       "    <tr>\n",
       "      <th>Ｍ３/ＧＭ３</th>\n",
       "      <td>73.380062</td>\n",
       "      <td>61.159493</td>\n",
       "      <td>75.636751</td>\n",
       "      <td>75.355481</td>\n",
       "      <td>66.794820</td>\n",
       "      <td>62.752244</td>\n",
       "      <td>79.099407</td>\n",
       "      <td>72.300425</td>\n",
       "      <td>77.019292</td>\n",
       "      <td>69.014849</td>\n",
       "      <td>76.075121</td>\n",
       "      <td>69.333594</td>\n",
       "      <td>71.968014</td>\n",
       "      <td>72.298752</td>\n",
       "      <td>78.635838</td>\n",
       "    </tr>\n",
       "    <tr>\n",
       "      <th>Ｍ４</th>\n",
       "      <td>72.637377</td>\n",
       "      <td>63.469438</td>\n",
       "      <td>72.645791</td>\n",
       "      <td>77.707196</td>\n",
       "      <td>63.869361</td>\n",
       "      <td>67.645683</td>\n",
       "      <td>79.082025</td>\n",
       "      <td>75.613464</td>\n",
       "      <td>74.452290</td>\n",
       "      <td>70.181658</td>\n",
       "      <td>75.084131</td>\n",
       "      <td>66.197107</td>\n",
       "      <td>72.169681</td>\n",
       "      <td>73.432786</td>\n",
       "      <td>75.397135</td>\n",
       "    </tr>\n",
       "    <tr>\n",
       "      <th>ＭＳ１/２</th>\n",
       "      <td>61.823794</td>\n",
       "      <td>58.086901</td>\n",
       "      <td>62.057199</td>\n",
       "      <td>76.108663</td>\n",
       "      <td>56.817244</td>\n",
       "      <td>68.948031</td>\n",
       "      <td>75.892799</td>\n",
       "      <td>74.875042</td>\n",
       "      <td>65.840273</td>\n",
       "      <td>69.623108</td>\n",
       "      <td>73.205595</td>\n",
       "      <td>52.659036</td>\n",
       "      <td>68.922099</td>\n",
       "      <td>69.136808</td>\n",
       "      <td>66.289789</td>\n",
       "    </tr>\n",
       "  </tbody>\n",
       "</table>\n",
       "</div>"
      ],
      "text/plain": [
       "                  課題設定        創造性      論理的思考     個人的実行力      ヴィジョン         成長  \\\n",
       "grade_IGS調整                                                                     \n",
       "Ｍ１           75.310345  65.666501  79.662628  77.444457  71.615830  66.978728   \n",
       "Ｍ２           78.276415  64.648386  75.585983  75.715986  70.898229  66.887935   \n",
       "Ｍ３/ＧＭ３       73.380062  61.159493  75.636751  75.355481  66.794820  62.752244   \n",
       "Ｍ４           72.637377  63.469438  72.645791  77.707196  63.869361  67.645683   \n",
       "ＭＳ１/２        61.823794  58.086901  62.057199  76.108663  56.817244  68.948031   \n",
       "\n",
       "                    耐性   感情コントロール        決断力     共感・傾聴力        外交性     影響力の行使  \\\n",
       "grade_IGS調整                                                                     \n",
       "Ｍ１           81.460344  77.199423  80.327408  68.176249  83.690600  79.267858   \n",
       "Ｍ２           80.367661  74.033936  76.904053  70.616040  80.015755  74.669502   \n",
       "Ｍ３/ＧＭ３       79.099407  72.300425  77.019292  69.014849  76.075121  69.333594   \n",
       "Ｍ４           79.082025  75.613464  74.452290  70.181658  75.084131  66.197107   \n",
       "ＭＳ１/２        75.892799  74.875042  65.840273  69.623108  73.205595  52.659036   \n",
       "\n",
       "                情熱・宣教力   組織への働きかけ        誠実さ  \n",
       "grade_IGS調整                                   \n",
       "Ｍ１           77.463700  77.204821  81.857710  \n",
       "Ｍ２           72.251054  73.680235  79.419497  \n",
       "Ｍ３/ＧＭ３       71.968014  72.298752  78.635838  \n",
       "Ｍ４           72.169681  73.432786  75.397135  \n",
       "ＭＳ１/２        68.922099  69.136808  66.289789  "
      ]
     },
     "execution_count": 5,
     "metadata": {},
     "output_type": "execute_result"
    }
   ],
   "source": [
    "grade_median_table"
   ]
  },
  {
   "cell_type": "markdown",
   "id": "08a12e8f-8140-4860-9e92-fdd687152bba",
   "metadata": {},
   "source": [
    "# P3作成"
   ]
  },
  {
   "cell_type": "code",
   "execution_count": 6,
   "id": "f68ea2be-a0ef-4074-853a-34330552f947",
   "metadata": {},
   "outputs": [
    {
     "data": {
      "text/plain": [
       "役職分類\\n(社内)\n",
       "ＧＭ３      1\n",
       "Ｍ１      27\n",
       "Ｍ２      68\n",
       "Ｍ３     125\n",
       "Ｍ４     116\n",
       "ＭＳ１    118\n",
       "ＭＳ２     34\n",
       "Name: count, dtype: int64"
      ]
     },
     "execution_count": 6,
     "metadata": {},
     "output_type": "execute_result"
    }
   ],
   "source": [
    "meitestsu_dat[\"役職分類\\n(社内)\"].value_counts().sort_index()"
   ]
  },
  {
   "cell_type": "code",
   "execution_count": 7,
   "id": "f7c20b9d-45eb-46d9-85a5-e358419772ed",
   "metadata": {},
   "outputs": [
    {
     "data": {
      "text/plain": [
       "Index(['flag_id', 'flag_id.1', '氏名', '年代', '所属1', '所属2', '所属3', '所属4', '所属5',\n",
       "       '役職種別id', '役職クラスid', '役職', '課題設定', '創造性', '論理的思考', '個人的実行力', 'ヴィジョン',\n",
       "       '成長', '耐性', '感情コントロール', '決断力', '共感・傾聴力', '外交性', '影響力の行使', '情熱・宣教力',\n",
       "       '組織への働きかけ', '誠実さ', '課題設定（自己評価）', '創造性（自己評価）', '論理的思考（自己評価）',\n",
       "       '個人的実行力（自己評価）', 'ヴィジョン（自己評価）', '成長（自己評価）', '耐性（自己評価）', '感情コントロール（自己評価）',\n",
       "       '決断力（自己評価）', '共感・傾聴力（自己評価）', '外交性（自己評価）', '影響力の行使（自己評価）',\n",
       "       '情熱・宣教力（自己評価）', '組織への働きかけ（自己評価）', '誠実さ（自己評価）', 'deadline_date',\n",
       "       'course_id'],\n",
       "      dtype='object')"
      ]
     },
     "execution_count": 7,
     "metadata": {},
     "output_type": "execute_result"
    }
   ],
   "source": [
    "score.columns"
   ]
  },
  {
   "cell_type": "markdown",
   "id": "5efcaade-a747-4de6-8d4f-f13357273f41",
   "metadata": {
    "id": "f2957ddd-3cfd-4771-bd97-b278cb12267b"
   },
   "source": [
    "## プロット作成"
   ]
  },
  {
   "cell_type": "markdown",
   "id": "de417bf9-20d4-4783-a833-e94bfac44857",
   "metadata": {},
   "source": [
    "### ベンチマークデータ調整"
   ]
  },
  {
   "cell_type": "code",
   "execution_count": 8,
   "id": "4cffd69a-e161-4116-bb4b-0c69f23477cd",
   "metadata": {},
   "outputs": [],
   "source": [
    "# bench_読み込み\n",
    "dat_Bench_max100 = pd.read_csv(\"import/99_dat_Bench_max100.csv\")"
   ]
  },
  {
   "cell_type": "code",
   "execution_count": 9,
   "id": "8617d68f-46e7-4e41-9fcf-4c73aabf2d6d",
   "metadata": {},
   "outputs": [],
   "source": [
    "# # V2でこのセル丸々置き換え必須\n",
    "# tmp_table = pd.DataFrame(index = cn,columns=[\"-1標準偏差\",\"中央閾値\",\"+1標準偏差\",])\n",
    "# tmp_table[\"-1標準偏差\"] = 45\n",
    "# tmp_table[\"中央閾値\"] = 55\n",
    "# tmp_table[\"+1標準偏差\"] = 65\n",
    "# tmp_table = tmp_table.T\n",
    "\n",
    "# ベンチ5階層ごとにtable異なるので要注意\n",
    "\n",
    "# bench_1 = G8\n",
    "# bench_2 = G7\n",
    "# bench_3 = G6\n",
    "# bench_4 = G4\n",
    "# bench_5 = G2\n",
    "\n",
    "# bench_1\n",
    "bench_1_tmp = dat_Bench_max100[dat_Bench_max100[\"役職分類\\n(社内)\"] == \"部長クラス\"][cn].describe()\n",
    "bench_1_tmp_2 = bench_1_tmp.loc[[\"50%\"]].rename(index={\"50%\": \"中央閾値\"})\n",
    "\n",
    "bench_1_tmp_2.loc[\"+1標準偏差\"] = bench_1_tmp_2.loc[\"中央閾値\"] + bench_1_tmp.loc[\"std\"]\n",
    "bench_1_tmp_2.loc[\"-1標準偏差\"] = bench_1_tmp_2.loc[\"中央閾値\"] - bench_1_tmp.loc[\"std\"]\n",
    "\n",
    "bench_1 = bench_1_tmp_2\n",
    "\n",
    "# bench_2\n",
    "bench_2_tmp = dat_Bench_max100[dat_Bench_max100[\"役職分類\\n(社内)\"] == \"部長クラス\"][cn].describe()\n",
    "bench_2_tmp_2 = bench_2_tmp.loc[[\"50%\"]].rename(index={\"50%\": \"中央閾値\"})\n",
    "\n",
    "bench_2_tmp_2.loc[\"+1標準偏差\"] = bench_2_tmp_2.loc[\"中央閾値\"] + bench_2_tmp.loc[\"std\"]\n",
    "bench_2_tmp_2.loc[\"-1標準偏差\"] = bench_2_tmp_2.loc[\"中央閾値\"] - bench_2_tmp.loc[\"std\"]\n",
    "\n",
    "bench_2 = bench_2_tmp_2\n",
    "\n",
    "# bench_3\n",
    "bench_3_tmp = dat_Bench_max100[dat_Bench_max100[\"役職分類\\n(社内)\"] == \"課長クラス\"][cn].describe()\n",
    "bench_3_tmp_2 = bench_3_tmp.loc[[\"50%\"]].rename(index={\"50%\": \"中央閾値\"})\n",
    "\n",
    "bench_3_tmp_2.loc[\"+1標準偏差\"] = bench_3_tmp_2.loc[\"中央閾値\"] + bench_3_tmp.loc[\"std\"]\n",
    "bench_3_tmp_2.loc[\"-1標準偏差\"] = bench_3_tmp_2.loc[\"中央閾値\"] - bench_3_tmp.loc[\"std\"]\n",
    "\n",
    "bench_3 = bench_3_tmp_2\n",
    "\n",
    "# bench_4\n",
    "bench_4_tmp = dat_Bench_max100[dat_Bench_max100[\"役職分類\\n(社内)\"] == \"主任・係長クラス\"][cn].describe()\n",
    "bench_4_tmp_2 = bench_4_tmp.loc[[\"50%\"]].rename(index={\"50%\": \"中央閾値\"})\n",
    "\n",
    "bench_4_tmp_2.loc[\"+1標準偏差\"] = bench_4_tmp_2.loc[\"中央閾値\"] + bench_4_tmp.loc[\"std\"]\n",
    "bench_4_tmp_2.loc[\"-1標準偏差\"] = bench_4_tmp_2.loc[\"中央閾値\"] - bench_4_tmp.loc[\"std\"]\n",
    "\n",
    "bench_4 = bench_4_tmp_2\n",
    "\n",
    "# bench_5\n",
    "bench_5_tmp = dat_Bench_max100[dat_Bench_max100[\"役職分類\\n(社内)\"] == \"一般クラス\"][cn].describe()\n",
    "bench_5_tmp_2 = bench_5_tmp.loc[[\"50%\"]].rename(index={\"50%\": \"中央閾値\"})\n",
    "\n",
    "bench_5_tmp_2.loc[\"+1標準偏差\"] = bench_5_tmp_2.loc[\"中央閾値\"] + bench_5_tmp.loc[\"std\"]\n",
    "bench_5_tmp_2.loc[\"-1標準偏差\"] = bench_5_tmp_2.loc[\"中央閾値\"] - bench_5_tmp.loc[\"std\"]\n",
    "\n",
    "bench_5 = bench_5_tmp_2\n",
    "\n",
    "\n",
    "\n",
    "# グレードで読み出せるように設定\n",
    "compare_bench_dict = {\n",
    "    \"Ｍ１\":bench_1,\n",
    "    \"Ｍ２\":bench_2,\n",
    "    \"Ｍ３\":bench_3,\n",
    "    \"Ｍ３/ＧＭ３\":bench_3,\n",
    "    \"Ｍ４\":bench_4,\n",
    "    \"ＭＳ１\":bench_5,\n",
    "    \"ＭＳ２\":bench_5,\n",
    "    \"ＭＳ１/２\":bench_5,\n",
    "    \"ＧＭ３\":bench_3,\n",
    "}"
   ]
  },
  {
   "cell_type": "markdown",
   "id": "bdd7e6af-d88f-4cc2-b5dc-926453482fff",
   "metadata": {
    "id": "f89d3381-f610-43ff-bc4a-caa331cc7ebc"
   },
   "source": [
    "### ベンチマーク比較"
   ]
  },
  {
   "cell_type": "code",
   "execution_count": 10,
   "id": "f55e353e-c049-426f-9995-af2bae23e4af",
   "metadata": {},
   "outputs": [],
   "source": [
    "# レーダーチャート用\n",
    "\n",
    "radar_cn = [\n",
    " '課題設定',\n",
    " # '解決意向',\n",
    " '創造性',\n",
    " '論理的思考',\n",
    " # '疑う力',\n",
    "    \n",
    " '個人的実行力',\n",
    " # '内的価値',\n",
    " 'ヴィジョン',\n",
    " # '自己効力',\n",
    " '成長',\n",
    " # '興味',\n",
    " '耐性',\n",
    " '感情\\nコントロール', # ここだけ折り返し\n",
    " '決断力',\n",
    "    \n",
    " # '表現力',\n",
    " '共感・傾聴力',\n",
    " '外交性',\n",
    " # '柔軟性',\n",
    " # '寛容',\n",
    " '影響力の行使',\n",
    " '情熱・宣教力',\n",
    "    \n",
    " '組織への働きかけ',\n",
    " # '地球市民',\n",
    " # '組織へのコミットメント',\n",
    " '誠実さ'\n",
    "]"
   ]
  },
  {
   "cell_type": "code",
   "execution_count": 11,
   "id": "f0636759-d292-4197-93e3-6fe536161520",
   "metadata": {
    "id": "1358bfb1-8661-4bc8-b3a6-3edb9adf4f89",
    "tags": []
   },
   "outputs": [],
   "source": [
    "cog_val = [100,100,100,100,100,100,0,0,0,0,0,0,0,0,0,0,0,0,0,0,0,0,0,0,0,100]\n",
    "sel_val = [0,0,0,0,0,100,100,100,100,100,100,100,100,100,100,0,0,0,0,0,0,0,0,0,0,0]\n",
    "oth_val = [0,0,0,0,0,0,0,0,0,0,0,0,0,0,100,100,100,100,100,100,100,100,0,0,0,0]\n",
    "com_val = [0,0,0,0,0,0,0,0,0,0,0,0,0,0,0,0,0,0,0,0,0,100,100,100,100,100]\n",
    "\n",
    "\n",
    "cn\n",
    "# self_cols=自己評価カラム名\n",
    "# cn=他者評価カラム名\n",
    "\n",
    "y=dict(boxstyle=\"round\",\n",
    "                   ec=\"#F4CF39\",\n",
    "                   fc=\"#F4CF39\",\n",
    "                   )\n",
    "r=dict(boxstyle=\"round\",\n",
    "                   ec=\"#DD5556\",\n",
    "                   fc=\"#DD5556\",\n",
    "                   )\n",
    "g=dict(boxstyle=\"round\",\n",
    "                   ec=\"#13A57E\",\n",
    "                   fc=\"#13A57E\",\n",
    "                   )\n",
    "b=dict(boxstyle=\"round\",\n",
    "                   ec=\"#427FC2\",\n",
    "                   fc=\"#427FC2\",\n",
    "                   )\n",
    "bboxc = [y,y,y,r,r,r,r,r,r,g,g,g,g,b,b]\n",
    "\n",
    "#ベンチマークレーダー作成\n",
    "def bench_radar_meitestsu(data,col=cn,radar_col = radar_cn):\n",
    "    \"\"\"\n",
    "    data = dataset with everything\n",
    "    ID = examinee ID\n",
    "    fname = filepath\n",
    "    \"\"\"\n",
    "    # フォルダ作成\n",
    "    os.makedirs(\"materials/基準値比較レーダーチャート\", exist_ok=True)\n",
    "\n",
    "    adj = 0.125663705\n",
    "\n",
    "    all_ids = data[\"Evaluatee Flag ID\"].tolist()\n",
    "\n",
    "    for id_ in tqdm(all_ids, total=len(all_ids)):\n",
    "        row = data[data[\"Evaluatee Flag ID\"]==id_].squeeze()\n",
    "        name = row[\"Evaluatee Flag ID\"]\n",
    "        \n",
    "        # gradeによってデータ選択\n",
    "        grade = row[\"役職分類\\n(社内)\"]\n",
    "        # ベンチマークデータ調整で作ったdictから読み込み\n",
    "        bench_dat = compare_bench_dict[row[\"役職分類\\n(社内)\"]]\n",
    "\n",
    "\n",
    "        val1, val2, val3, val4  = np.array(row[col]), np.array(bench_dat.loc[\"-1標準偏差\"][col]),np.array(bench_dat.loc[\"中央閾値\"][col]),np.array(bench_dat.loc[\"+1標準偏差\"][col])\n",
    "        theta = np.linspace(0, 2 * np.pi, 16, endpoint=True)\n",
    "        adj_theta = np.linspace(0-adj, 2 * np.pi, 16, endpoint=True)\n",
    "\n",
    "        val1, val2, val3, val4 = np.concatenate((val1,[val1[0]])), np.concatenate((val2,[val2[0]])), np.concatenate((val3,[val3[0]])), np.concatenate((val4,[val4[0]]))\n",
    "        fig = plt.figure(figsize=(13,12))\n",
    "        plt.subplots_adjust(top=0.8,hspace=0.8)\n",
    "        ax = fig.add_subplot(111,polar=True)\n",
    "\n",
    "    #GROW360のレポートに合わせて反時計回りに並べる\n",
    "        ax.plot(-theta,val1,'o-', label=\"あなたの結果\",color=\"#13A57E\",alpha=0.5)\n",
    "        ax.plot(-theta,val4,'o-', label=f\"市場水準・上位\",color=\"#000000\",alpha=0.7,lw=5)\n",
    "        ax.plot(-theta,val3,'--', label=f\"市場水準・中位\",color=\"#000000\",alpha=0.5,lw=3)\n",
    "        ax.plot(-theta,val2,'--', label=f\"市場水準・下位\",color=\"#000000\",alpha=0.5,lw=1.5)\n",
    "\n",
    "\n",
    "        ax.fill(-theta, val1, alpha=0.5,color=\"#13A57E\")\n",
    "\n",
    "        ax.set_rlim(0 ,110)\n",
    "        ax.set_rgrids(np.arange(0,120,20),angle=0,fontsize=10)\n",
    "        ax.set_thetagrids(np.degrees(theta)[:-1],[],fontsize=10)  # 軸ラベル\n",
    "\n",
    "        for i in range(len(radar_col)):\n",
    "            ax.text(-theta[i], 116, radar_col[i], ha=\"center\", va=\"center\", fontsize=12.5, bbox=bboxc[i],\n",
    "                    fontweight=\"bold\",color=\"white\")\n",
    "\n",
    "        ax.set_theta_direction(-1)\n",
    "        ax.set_theta_zero_location(\"N\")\n",
    "        matplotlib.rc('axes',edgecolor='lightgray', linewidth=2)\n",
    "        plt.legend(loc=\"upper left\", bbox_to_anchor=(0.9, 1.05), borderaxespad=0, fontsize=12.5)\n",
    "\n",
    "        plt.savefig(f\"materials/基準値比較レーダーチャート/{name}_基準値比較\",dpi=200,pad_inches=0.2,bbox_inches=\"tight\")\n",
    "        plt.close()"
   ]
  },
  {
   "cell_type": "code",
   "execution_count": 12,
   "id": "592664a3-4c5b-4cf0-b11f-d47816276729",
   "metadata": {
    "colab": {
     "referenced_widgets": [
      "bea563a4ab5c42eab9460936235371ad"
     ]
    },
    "id": "38145c66-ab6b-40a9-b777-3d9de27471ca",
    "outputId": "6677dba7-81bd-488e-92c9-f42c52b38c45",
    "tags": []
   },
   "outputs": [
    {
     "data": {
      "application/vnd.jupyter.widget-view+json": {
       "model_id": "670e0096dd08415abffe42bf34983cc9",
       "version_major": 2,
       "version_minor": 0
      },
      "text/plain": [
       "  0%|          | 0/5 [00:00<?, ?it/s]"
      ]
     },
     "metadata": {},
     "output_type": "display_data"
    }
   ],
   "source": [
    "bench_radar_meitestsu(meitestsu_dat.head(),col = meitetsu_cn)"
   ]
  },
  {
   "cell_type": "markdown",
   "id": "b8354659-b6c0-4f51-9aac-c70256f93b9a",
   "metadata": {
    "id": "faa60033-0552-4e3e-971b-7d3f29a396b6",
    "tags": []
   },
   "source": [
    "### 自己他者乖離"
   ]
  },
  {
   "cell_type": "code",
   "execution_count": 13,
   "id": "11728d3f-7d2c-4669-9fa7-ece10a112438",
   "metadata": {
    "id": "ac04732c-8d7e-4a24-b173-584d3e116d54",
    "tags": []
   },
   "outputs": [],
   "source": [
    "# 自己他者乖離\n",
    "def self_other_radar_meitestsu(data,col=cn,radar_col = radar_cn,col_self = cn_self):\n",
    "    \"\"\"\n",
    "    data = dataset with everything\n",
    "    ID = examinee ID\n",
    "    fname = filepath\n",
    "    \"\"\"\n",
    "    # フォルダ作成\n",
    "    os.makedirs(\"materials/自己他者比較レーダーチャート\", exist_ok=True)\n",
    "\n",
    "    adj = 0.125663705\n",
    "    all_ids = data[\"Evaluatee Flag ID\"].tolist()\n",
    "    for id_ in tqdm(all_ids, total=len(all_ids)):\n",
    "        row = data[data[\"Evaluatee Flag ID\"]==id_].squeeze()\n",
    "        name = row[\"Evaluatee Flag ID\"]\n",
    "\n",
    "        val1, val2  = np.array(row[col_self]), np.array(row[col])#, np.array(bigdata[col_engi].mean().round(0))\n",
    "\n",
    "        theta = np.linspace(0, 2 * np.pi, 16, endpoint=True)\n",
    "        adj_theta = np.linspace(0-adj, 2 * np.pi, 16, endpoint=True)\n",
    "\n",
    "        val1, val2 = np.concatenate((val1,[val1[0]])), np.concatenate((val2,[val2[0]]))#, np.concatenate((val3,[val3[0]]))\n",
    "        fig = plt.figure(figsize=(12,12))\n",
    "        plt.subplots_adjust(top=0.8,hspace=0.8)\n",
    "        ax = fig.add_subplot(111,polar=True)\n",
    "\n",
    "    #GROW360のレポートに合わせて反時計回りに並べる\n",
    "        ax.plot(-theta,val1,'o-', label=\"あなたの自己測定\",color=\"#DD5556\")\n",
    "        ax.plot(-theta,val2,'s-', label=\"あなたの結果\",color=\"#13A57E\")\n",
    "\n",
    "        ax.fill(-theta, val1, alpha=0.5,color=\"#DD5556\")\n",
    "        ax.fill(-theta, val2, alpha=0.5,color=\"#13A57E\")\n",
    "\n",
    "\n",
    "        ax.set_rlim(0 ,110)\n",
    "        ax.set_rgrids(np.arange(0,120,20),angle=0,fontsize=10)\n",
    "        ax.set_thetagrids(np.degrees(theta)[:-1],[],fontsize=10)  # 軸ラベル\n",
    "\n",
    "        for i in range(len(radar_col)):\n",
    "            ax.text(-theta[i], 116, radar_col[i], ha=\"center\", va=\"center\", fontsize=12.5, bbox=bboxc[i],\n",
    "                    fontweight=\"bold\",color=\"white\")\n",
    "\n",
    "        ax.set_theta_direction(-1)\n",
    "        ax.set_theta_zero_location(\"N\")\n",
    "        matplotlib.rc('axes',edgecolor='lightgray', linewidth=2)\n",
    "        plt.legend(loc=\"upper left\", bbox_to_anchor=(0.9, 1.05), borderaxespad=0, fontsize=12.5)\n",
    "\n",
    "        plt.savefig(f\"materials/自己他者比較レーダーチャート/{name}_自己他者比較\",dpi=200,pad_inches=0.2,bbox_inches=\"tight\")\n",
    "        plt.close()"
   ]
  },
  {
   "cell_type": "code",
   "execution_count": 14,
   "id": "8cecec3c-0129-4349-b1db-c95b977bd543",
   "metadata": {
    "colab": {
     "referenced_widgets": [
      "f95932e7859a48c799edd73cba77d720"
     ]
    },
    "id": "c9d791f0-0af8-417b-b455-60afaeda8910",
    "outputId": "baf92c5c-b86e-4636-b010-b1fd3ddd16a7",
    "tags": []
   },
   "outputs": [
    {
     "data": {
      "application/vnd.jupyter.widget-view+json": {
       "model_id": "9ca0c325f0a446a2a651b2d924009381",
       "version_major": 2,
       "version_minor": 0
      },
      "text/plain": [
       "  0%|          | 0/5 [00:00<?, ?it/s]"
      ]
     },
     "metadata": {},
     "output_type": "display_data"
    }
   ],
   "source": [
    "self_other_radar_meitestsu(meitestsu_dat.head(),col = meitetsu_cn,col_self = meitetsu_cn_self)"
   ]
  },
  {
   "cell_type": "code",
   "execution_count": null,
   "id": "538142ef-c471-4c0b-8561-f98ad595d9d5",
   "metadata": {},
   "outputs": [],
   "source": []
  },
  {
   "cell_type": "markdown",
   "id": "f8ce1d52-fa53-4024-9d9e-e53e7befe51f",
   "metadata": {
    "id": "7c231bdc-bd7b-4ace-bae3-9c21dacd0c37",
    "tags": []
   },
   "source": [
    "## 説明文辞書作成"
   ]
  },
  {
   "cell_type": "code",
   "execution_count": 15,
   "id": "6d2e896b-b3d9-4704-9910-557ce1941b70",
   "metadata": {
    "id": "bc0db151-870f-4e06-9213-592d8a9953a8",
    "tags": []
   },
   "outputs": [],
   "source": [
    "comp_desc = {\n",
    "    \"課題設定\":\"課題を分析し原因を突き止めている\",\n",
    "    \"解決意向\":\"課題に合わせた計画や方法を立案している\",\n",
    "    \"創造性\":\"独創的なアイデアを生み出している\",\n",
    "    \"論理的思考\":\"物事について論理的に考えている\",\n",
    "    \"疑う力\":\"情報を鵜呑みにせずに自ら考えている\",\n",
    "    \"個人的実行力\":\"何事も最後までやり遂げている\",\n",
    "    \"内的価値\":\"一貫した価値観をもって判断している\",\n",
    "    \"ヴィジョン\":\"将来の変化を予測して目標や計画を立てている\",\n",
    "    \"自己効力\":\"自信をもって物事に取り組んでいる\",\n",
    "    \"成長\":\"自身の成長を意識して物事に取り組んでいる\",\n",
    "    \"興味\":\"様々な分野で知見を深めようとしている\",\n",
    "    \"耐性\":\"困難な状況でもポジティブに物事に取り組んでいる\",\n",
    "    \"感情コントロール\":\"ストレスを感じる状況でも行動をコントロールしている\",\n",
    "    \"決断力\":\"適切なタイミングで、責任をもって物事を決めている\",\n",
    "    \"表現力\":\"物事をわかりやすく伝えている\",\n",
    "    \"共感・傾聴力\":\"相手の意図や感情を的確に理解している\",\n",
    "    \"外交性\":\"様々な場面で人脈を構築している\",\n",
    "    \"柔軟性\":\"臨機応変に物事に対応している\",\n",
    "    \"寛容\":\"自分と異なる意見や行動を受け入れている\",\n",
    "    \"影響力の行使\":\"リーダーシップを発揮している\",\n",
    "    \"情熱・宣教力\":\"熱意を示すことで周囲の協力を得ている\",\n",
    "    \"組織への働きかけ\":\"チームワークを育む行動をしている\",\n",
    "    \"地球市民\":\"グローバルな問題に関心を示している\",\n",
    "    \"組織へのコミットメント\":\"所属する組織の目的達成に向け真摯に取り組んでいる\",\n",
    "    \"誠実さ\":\"正しく倫理的な行いをするように周囲に働きかけている\",\n",
    "    \"-\": \"-\"\n",
    "}"
   ]
  },
  {
   "cell_type": "code",
   "execution_count": 16,
   "id": "58ebba8a-193e-43b6-a249-b8828b922934",
   "metadata": {
    "id": "9d602a82-dbb2-4e71-9a9e-ecf1239274aa",
    "tags": []
   },
   "outputs": [],
   "source": [
    "comp_dev_dict = {\n",
    "    \"課題設定\":\"問題の本質を見極めながら課題を設定する / 問題を多角的に分析して原因を突き止める / 情報収集の方法を理解し、その情報を課題の設定に生かす / 日頃から周囲の問題に関心をもち、解決すべき課題はないか考える\",\n",
    "    \"解決意向\":\"メリットとデメリットを踏まえながら実現することが可能な計画を立てるようにする / 計画に問題があれば改善につなげる修正を積極的に行う / 課題ときちんと適合した具体的な目標を設定する習慣を付ける\",\n",
    "    \"創造性\":\"周囲に自分独自の価値を実際に示す / 周囲が思い付かないような多数のアイデアを提案する / 既存の複数のアイデアを一つに統合して新たなアイデアや価値として提案し、実現への道筋を示すようにする\",\n",
    "    \"論理的思考\":\"物事の因果関係を矛盾なく整理する / 論理の飛躍や矛盾に敏感になり、それについて質問・指摘するようにする / 抽象度の高い複雑な物事でも、個々の要素に分解して具体的にイメージして考えるようにする\",\n",
    "    \"疑う力\":\"他者の言動に疑問をもち、言動の背景を突き止めるようにする / 情報の発信源や入手経路を調べ、事実と意見を区別して情報の正しさを判断する / 相手が誰であれ、その人の主張に誤りがあるのではないかと考える\",\n",
    "    \"個人的実行力\":\"何があっても諦めずに最後までやり遂げるようにする / 困難なことであっても、リスクを考慮しながら失敗を恐れずに挑戦してみる / あらゆる手段を尽くし、自己犠牲もいとわないようにする\",\n",
    "    \"内的価値\":\"明確な信念や価値観をもち、それに従って一貫した行動をとる / 判断のよりどころとなる明確な信念や価値観をもつ / 自らの強固な信念や価値観に沿って、終始一貫した意思決定を行うようにする\",\n",
    "    \"ヴィジョン\":\"将来起こりうる社会変化を分析し、実現性の高い具体的なイメージをもつようにする / 将来の夢や理想を明確にもち、自分がワクワクするだけでなく、自信をもって周囲を巻き込めるように働きかける\",\n",
    "    \"自己効力\":\"自分はほかの人と比べて高いレベルで物事を遂行できると自信をもつようにする / 困難な出来事が起こっても、過去にやり抜いてきた自分をよりどころにしながら自信をもってそれに立ち向かい、やり切るようにする\",\n",
    "    \"成長\":\"自分を成長させるために高い目標を立て、必要なら厳しい道であってもあえて選択してみる / 高い向上心をもち、自分のさらなる成長につながる機会を積極的に求める / 現状に満足せず、高い向上心をもつようにする\",\n",
    "    \"興味\":\"新しいものに触れることに喜びを感じ、積極的に行動する / 情報や知識を仕入れる手段を多くもち、それを活用しながら情報や知識を集めるようにする / 知らないことを追い求めることに喜びを感じ、関心をもったことを突き詰めて考える\",\n",
    "    \"耐性\":\"どんなに困難な状況でもポジティブに考えるようにする / 苦しい状況でも周囲に辛い顔を見せず、状況が好転するまで粘り強く耐えるようにする / 失敗や挫折に対して、その状況を成長の糧にして、前向きに捉える\",\n",
    "    \"感情コントロール\":\"ストレスの原因を分析し、複数の対処法を使い分ける術をもつ / 必要なときには回避する勇気をもつ / 自分の感情の状態を自覚し、平常時との違いを認識しながら思考や行動を修正するようにする\",\n",
    "    \"決断力\":\"状況が複雑で判断に迷っても先延ばしせず、迅速に決断する / 自分の決断に対する責任を全うし、対応が困難であっても挽回するために尽力する / 自分が正しいと信じている思考や感情に基づいて決断する\",\n",
    "    \"表現力\":\"五感を用いて表現し、相手にその感覚を伝えられるようにする / ジェスチャーや図表などを効果的に用いて、伝えるべきことをより効果的に伝えるようにする / 相手の知性と感情の両方に訴えかけるようにしてみる\",\n",
    "    \"共感・傾聴力\":\"話の内容以外に相手の表情や仕草にも注意を払い、相手の考えを推測する / 相手の話をきちんと受け止め、相手の考えや気持ちに共感を示し、気分良く話をさせるように心掛ける / 相手やその話に対して自分のことであるかのように共感する\",\n",
    "    \"外交性\":\"どんな場面・相手でも会話を楽しみ、周囲の人たちと打ち解けられるようにする / 新しい人間関係を構築できるように自ら積極的に働きかける / 初対面の人であっても自分から積極的に話しかけ、その人の考えを知ろうする\",\n",
    "    \"柔軟性\":\"環境に変化が起こった場合は積極的にやり方を改めて対応する / これまでの実績や固定観念を否定する勇気をもち、異なるアプローチで挑む / 変化に富む環境にあえて身を置き、その環境を楽しむようにする\",\n",
    "    \"寛容\":\"異なる意見がなされた理由を理解したうえで、それを受け入れるようにする / 他者の成功を自分ごとのように喜び、その気持ちを相手にも伝える / 間違いや失敗を犯しても、それを受け止めたうえで相手を心から許す\",\n",
    "    \"影響力の行使\":\"どんなグループでもリーダーシップを取り、グループを率先してまとめる / 相手の意見や行動に影響を与えられるように働きかける / どうすれば自分の言動が相手の態度・行動を変えることができるのかを考えてみる\",\n",
    "    \"情熱・宣教力\":\"自分の力だけではどうすることもできないことに対しては周囲に協力を求め、決して諦めることなく他者を巻き込みながらそれをやり遂げるようにする\",\n",
    "    \"組織への働きかけ\":\"グループの目標や自分の役割を理解し、メンバーが意欲的に動けるような働きかけをする / 建設的な発言を積極的に行い、議論の活性化に貢献する/求められる役割だけでなく、自分がどう動けば効果的かを考えて行動する\",\n",
    "    \"地球市民\":\"異文化の人との協働に積極的に参加する /人種、国籍、思想、文化、宗教などの枠組みにとらわれず、自分の役割を地球レベルで捉えて行動する / 地域や日本のために自分にできることはないか模索し、実際に行動してみる\",\n",
    "    \"組織へのコミットメント\":\"自分が所属するチームやネットワークに愛着をもち、その組織を維持・拡大させるために、自分の利益より優先して力を尽くす\",\n",
    "    \"誠実さ\":\"約束を守る意味を理解したうえで、自ら積極的に約束を守る / 自分に都合が悪い状況でも、事の善悪を正しく判断して行動する / ルールやマナーを守らない人に働きかけ、相手の態度や行動を少しでも変えられるように努力する\",\n",
    "    \"-\":\"-\"\n",
    "}"
   ]
  },
  {
   "cell_type": "markdown",
   "id": "2ee6d1e5-4835-4a71-8dfd-3c5a12623307",
   "metadata": {
    "editable": true,
    "id": "16b8091e-1e00-4851-8000-3eb17a9b4f14",
    "slideshow": {
     "slide_type": ""
    },
    "tags": []
   },
   "source": [
    "## page3"
   ]
  },
  {
   "cell_type": "markdown",
   "id": "dbc2c47a-f11f-43d4-adc7-4266d6e28bfc",
   "metadata": {},
   "source": [
    "### コンピ部分"
   ]
  },
  {
   "cell_type": "code",
   "execution_count": 17,
   "id": "a47c47da-ace6-4960-b8b7-2f15236d669f",
   "metadata": {
    "id": "0bd899c0-6633-4b8c-8693-be19e9938e4b",
    "outputId": "48d3bc98-6311-4543-a328-a0ac63f559d9",
    "tags": []
   },
   "outputs": [
    {
     "data": {
      "text/plain": [
       "reportlab.pdfbase.ttfonts.TTFont"
      ]
     },
     "execution_count": 17,
     "metadata": {},
     "output_type": "execute_result"
    }
   ],
   "source": [
    "TTFont"
   ]
  },
  {
   "cell_type": "code",
   "execution_count": null,
   "id": "28740f19-4878-4d45-9038-d0793a2c37d5",
   "metadata": {
    "id": "a1427400-2f1a-4f8f-a76e-5c6dd981eda8",
    "tags": []
   },
   "outputs": [],
   "source": []
  },
  {
   "cell_type": "code",
   "execution_count": null,
   "id": "d3ba693f-78ec-4ee3-a904-e97780f2e409",
   "metadata": {},
   "outputs": [],
   "source": []
  },
  {
   "cell_type": "code",
   "execution_count": 18,
   "id": "2b2f30b6-a2c6-42f3-87b3-01f361439993",
   "metadata": {
    "id": "a9adba53-6f5c-4858-a317-8310823eb0d9",
    "tags": []
   },
   "outputs": [],
   "source": [
    "def set_info(filename):\n",
    "    a3_width, a3_height = A3\n",
    "    custom_size = (a3_width - 50, a3_height)  # 縦を50ポイント縮める\n",
    "    pdf_canvas = canvas.Canvas(\"{0}.pdf\".format(filename), pagesize=landscape(custom_size))\n",
    "    # pdf_canvas = canvas.Canvas(\"{0}.pdf\".format(filename),pagesize=landscape(A3)) #A3横設定\n",
    "    #memo canvas.Canvas(file_path)で新規PDFを作成\n",
    "\n",
    "    # ファイル情報の登録（任意）\n",
    "    pdf_canvas.setAuthor(\"\") # 作者\n",
    "    pdf_canvas.setTitle(\"\") # 表題\n",
    "    pdf_canvas.setSubject(\"\") # 件名\n",
    "    return pdf_canvas\n",
    "\n",
    "\n",
    "def make_page3(df , language=\"Japanese\",cn=cn):# ファイル名の設定\n",
    "    now = datetime.datetime.now()\n",
    "    # フォルダ作成\n",
    "    os.makedirs(\"workspace/page3/\", exist_ok=True)\n",
    "\n",
    "    for index,data in tqdm(df.iterrows(), total=len(df)):\n",
    "        ID = data[\"Evaluatee Flag ID\"]\n",
    "        filename=\"workspace/page3/{0}_page3\".format(ID,now)#memo IDに入れたものが{0}に入る\n",
    "        pdf_canvas = set_info(filename) # キャンバス名の設定\n",
    "        print_string_page3(data, ID, language, pdf_canvas,cn=cn)\n",
    "        pdf_canvas.save() # pdfを保存"
   ]
  },
  {
   "cell_type": "code",
   "execution_count": null,
   "id": "0602c463-a276-4de1-a6d0-12d29ca24fc8",
   "metadata": {
    "id": "102148c8-f2e7-47d9-8328-b69a016db33b"
   },
   "outputs": [],
   "source": []
  },
  {
   "cell_type": "code",
   "execution_count": 19,
   "id": "c5311e38-f357-4167-bcf4-f824bd0feead",
   "metadata": {
    "id": "aee94a3c-173d-4ac3-b64a-f1633ff79bd7",
    "tags": []
   },
   "outputs": [],
   "source": [
    "def print_string_page3(df, ID, language, pdf_canvas,cn=cn):\n",
    "    # (1)タイトル\n",
    "    font_size = 10# フォントサイズ\n",
    "    font = 'HeiseiKakuGo-W5'\n",
    "    # pdf_canvas.setFont('HeiseiKakuGo-W5', font_size)\n",
    "    pdf_canvas.setFont(font, font_size)\n",
    "    \n",
    "    \n",
    "    row = df\n",
    "    name = row[\"氏名\"]\n",
    "    # ベンチマークデータ調整で作ったdictから読み込み\n",
    "    bench_dat = compare_bench_dict[row[\"役職分類\\n(社内)\"]]\n",
    "\n",
    "    \n",
    "    pdfmetrics.registerFont(UnicodeCIDFont('HeiseiKakuGo-W5')) # フォント\n",
    "    \n",
    "\n",
    "        #セクション1タイトル\n",
    "    data = [\n",
    "        [\"\", \"市場水準から見た、あなたの強み・弱み\", \"市場水準とのギャップから見える強み・弱みは何かを理解しましょう。\"]\n",
    "    ]\n",
    "\n",
    "    table = Table(data, colWidths=(6*mm, 100*mm, 42*mm), rowHeights= (6*mm))# size of box\n",
    "    table.setStyle(TableStyle([\n",
    "        (\"ALIGN\", (0,0), (-1,-1), \"LEFT\"),\n",
    "        ('BOX', (0, 0), (0, -1), 1, colors.Color(red=(102.0/255),green=(102.0/255),blue=(102.0/255))),\n",
    "        ('BACKGROUND', (0, 0), (0, -1), colors.Color(red=(55.0/255),green=(75.0/255),blue=(143.0/255))),\n",
    "        ('FONT', (0, 0), (0, -1), font, 15),\n",
    "        ('TEXTCOLOR', (0, 0), (0, -1), colors.white),\n",
    "        ('FONT', (1, 0), (1, -1), font, 15),\n",
    "        ('TEXTCOLOR', (1, 0), (1, -1), colors.black),\n",
    "        ('FONT', (2, 0), (2, -1), font, 8),#italicにしたい\n",
    "        ('TEXTCOLOR', (2, 0), (2, -1), colors.black),\n",
    "        ('VALIGN', (0, 0), (-1, -1), \"MIDDLE\"),\n",
    "        (\"BACKGROUND\",(1,0),(2,-1),colors.white),\n",
    "    ]))\n",
    "    table.wrapOn(pdf_canvas, 10*mm, 264*mm)\n",
    "    table.drawOn(pdf_canvas, 10*mm, 264*mm)\n",
    "\n",
    "    external_cols = cn\n",
    "\n",
    "    bench_gap_table = pd.DataFrame()\n",
    "    bench_gap_list = []\n",
    "    for i in cn:\n",
    "        abc = row[i] - bench_dat.loc[\"中央閾値\"][i]\n",
    "        bench_gap_list.append(abc)\n",
    "    bench_gap_table = pd.DataFrame(bench_gap_list,index=cn,columns=[\"bench_gap\"])\n",
    "    bench_gap_table = bench_gap_table.sort_values(\"bench_gap\")\n",
    "    bench_gap_table = bench_gap_table.T\n",
    "    highest = bench_gap_table.T.sort_values(\"bench_gap\", ascending=False)[:3].index.tolist()\n",
    "    lowest = bench_gap_table.T.sort_values(\"bench_gap\")[:3].index.tolist()\n",
    "\n",
    "\n",
    "    # get high and low, and descriptions\n",
    "    if language == \"Japanese\":\n",
    "        widthnumber=33\n",
    "        \n",
    "        # 2回目変更必要\n",
    "        data = [\n",
    "            [\"強みとなるコンピテンシー\",\"どのような能力か\"],\n",
    "            [highest[0], textwrap.fill(comp_desc[highest[0]], width=widthnumber)],\n",
    "            [highest[1], textwrap.fill(comp_desc[highest[1]], width=widthnumber)],\n",
    "            [highest[2], textwrap.fill(comp_desc[highest[2]], width=widthnumber)],\n",
    "            [\"弱みとなるコンピテンシー\",\"\"],\n",
    "            [lowest[0], \"\"],\n",
    "            [lowest[1], \"\"],\n",
    "            [lowest[2], \"\"],\n",
    "        ]\n",
    "        # data = [\n",
    "        #     [\"強みとなるコンピテンシー\",\"どのような能力か\"],\n",
    "        #     [\"-\",\"-\"],\n",
    "        #     [\"-\",\"-\"],\n",
    "        #     [\"-\",\"-\"],\n",
    "        #     [\"弱みとなるコンピテンシー\",\"\"],\n",
    "        #     [\"-\",\"-\"],\n",
    "        #     [\"-\",\"-\"],\n",
    "        #     [\"-\",\"-\"],\n",
    "        # ]\n",
    "\n",
    "    table = Table(data, colWidths=(65*mm, 128*mm), rowHeights= (10*mm,8*mm,8*mm,8*mm,10*mm,25*mm,25*mm,25*mm))# size of box\n",
    "    table.setStyle(TableStyle([\n",
    "        ('BOX', (0, 0), (-1, -1), 1, colors.black),\n",
    "        ('FONT', (0, 0), (-1, -1), font, 12),\n",
    "        ('FONT', (1, 5), (1, 7), font, 10),\n",
    "        ('FONT', (1, 1), (1, 3), font, 10),\n",
    "\n",
    "        ('ALIGN', (0, 0), (-1, -1), \"LEFT\"),\n",
    "\n",
    "        ('BACKGROUND', (0, 0), (-1, 0), colors.Color(red=(55.0/255),green=(75.0/255),blue=(143.0/255))),\n",
    "        ('TEXTCOLOR', (0, 0), (-1, 0), colors.white),\n",
    "\n",
    "        ('BACKGROUND', (0, 4), (-1, 4), colors.Color(red=(55.0/255),green=(75.0/255),blue=(143.0/255))),\n",
    "        ('TEXTCOLOR', (0, 4), (-1, 4), colors.white),\n",
    "\n",
    "        ('VALIGN', (0, 0), (-1, -1), \"MIDDLE\"),\n",
    "        ('GRID', (0, 0), (-1, -1), 0.25, colors.black)\n",
    "    ]))\n",
    "\n",
    "    table.wrapOn(pdf_canvas, 10*mm, 140*mm) # adjust position\n",
    "    table.drawOn(pdf_canvas, 10*mm, 140*mm)\n",
    "\n",
    "    if language == \"Japanese\":\n",
    "        widthnumber=39\n",
    "        \n",
    "        # 2回目変更必要\n",
    "        data = [\n",
    "            [\"どのような能力か\"],\n",
    "            [\"開発のヒント\"],\n",
    "            [textwrap.fill(comp_desc[lowest[0]], width=widthnumber)],\n",
    "            [textwrap.fill(comp_dev_dict[lowest[0]], width=widthnumber)],\n",
    "            [textwrap.fill(comp_desc[lowest[1]], width=widthnumber)],\n",
    "            [textwrap.fill(comp_dev_dict[lowest[1]], width=widthnumber)],\n",
    "            [textwrap.fill(comp_desc[lowest[2]], width=widthnumber)],\n",
    "            [textwrap.fill(comp_dev_dict[lowest[2]], width=widthnumber)],\n",
    "        ]\n",
    "        # data = [\n",
    "        #     [\"どのような能力か\"],\n",
    "        #     [\"開発のヒント\"],\n",
    "        #     [\"-\"],\n",
    "        #     [\"-\"],\n",
    "        #     [\"-\"],\n",
    "        #     [\"-\"],\n",
    "        #     [\"-\"],\n",
    "        #     [\"-\"],\n",
    "        # ]\n",
    "\n",
    "    table = Table(data, colWidths=(128*mm), rowHeights= (5*mm,5*mm,7*mm,18*mm,7*mm,18*mm,7*mm,18*mm,))# size of box\n",
    "    table.setStyle(TableStyle([\n",
    "        ('FONT', (0, 0), (-1, -1), font, 9),\n",
    "        ('ALIGN', (0, 0), (-1, -1), \"LEFT\"),\n",
    "        ('VALIGN', (0, 0), (-1, -1), \"MIDDLE\"),\n",
    "        ('GRID', (0, 0), (-1, -1), 0.25, colors.black),\n",
    "        ('TEXTCOLOR', (0, 0), (0, 1), colors.white),\n",
    "    ]))\n",
    "\n",
    "\n",
    "    table.wrapOn(pdf_canvas, 75*mm, 140*mm) # adjust position\n",
    "    table.drawOn(pdf_canvas, 75*mm, 140*mm)\n",
    "\n",
    "    #セクション2タイトル\n",
    "    data = [\n",
    "        [\"\", \"あなたが気づいていない強みと周囲に認識されていないポテンシャル\", \"\"]\n",
    "    ]\n",
    "\n",
    "    table = Table(data, colWidths=(6*mm, 90*mm, 42*mm), rowHeights= (6*mm))# size of box\n",
    "    table.setStyle(TableStyle([\n",
    "        (\"ALIGN\", (0,0), (-1,-1), \"LEFT\"),\n",
    "        ('BOX', (0, 0), (0, -1), 1, colors.Color(red=(102.0/255),green=(102.0/255),blue=(102.0/255))),\n",
    "        ('BACKGROUND', (0, 0), (0, -1), colors.Color(red=(55.0/255),green=(75.0/255),blue=(143.0/255))),\n",
    "        ('FONT', (0, 0), (0, -1), font, 15),\n",
    "        ('TEXTCOLOR', (0, 0), (0, -1), colors.white),\n",
    "        ('FONT', (1, 0), (1, -1), font, 15),\n",
    "        ('TEXTCOLOR', (1, 0), (1, -1), colors.black),\n",
    "        ('FONT', (2, 0), (2, -1), font, 8),#italicにしたい\n",
    "        ('TEXTCOLOR', (2, 0), (2, -1), colors.black),\n",
    "        ('VALIGN', (0, 0), (-1, -1), \"MIDDLE\"),\n",
    "        (\"BACKGROUND\",(1,0),(2,-1),colors.white),\n",
    "    ]))\n",
    "    table.wrapOn(pdf_canvas, 10*mm, 125*mm)\n",
    "    table.drawOn(pdf_canvas, 10*mm, 125*mm)\n",
    "\n",
    "    data = [\n",
    "        [\"自己測定とのギャップから見える強み・ポテンシャルは何かを理解しましょう。\"]\n",
    "    ]\n",
    "\n",
    "    table = Table(data, colWidths=(42*mm), rowHeights= (6*mm))# size of box\n",
    "    table.setStyle(TableStyle([\n",
    "        (\"ALIGN\", (0,0), (-1,-1), \"LEFT\"),\n",
    "        ('FONT', (0, 0), (-1, -1), font, 8),#italicにしたい\n",
    "        ('VALIGN', (0, 0), (-1, -1), \"MIDDLE\"),\n",
    "    ]))\n",
    "    table.wrapOn(pdf_canvas, 16*mm, 120*mm)\n",
    "    table.drawOn(pdf_canvas, 16*mm, 120*mm)\n",
    "\n",
    "    external_cols = cn\n",
    "\n",
    "    sel_oth_gap_table = pd.DataFrame()\n",
    "    sel_oth_list = []\n",
    "    for i in sel_oth_gap_list:\n",
    "        abc = row[i]\n",
    "        sel_oth_list.append(abc)\n",
    "\n",
    "    sel_oth_gap_table = pd.DataFrame(sel_oth_list,index=cn,columns=[\"gap\"])\n",
    "    sel_oth_gap_table = sel_oth_gap_table.sort_values(\"gap\")\n",
    "    sel_oth_gap_table = sel_oth_gap_table.T\n",
    "\n",
    "    highest = sel_oth_gap_table.T.sort_values(\"gap\", ascending=False)[:3].index.tolist()\n",
    "    lowest = sel_oth_gap_table.T.sort_values(\"gap\")[:3].index.tolist()\n",
    "\n",
    "    # print(sel_oth_gap_table)\n",
    "\n",
    "    true_lowest = []\n",
    "    for i in lowest:\n",
    "        if sel_oth_gap_table[i][0] < 0:\n",
    "            true_lowest.append(i)\n",
    "        else :\n",
    "            true_lowest.append(\"-\")\n",
    "\n",
    "    true_highest = []\n",
    "    for i in highest:\n",
    "        if sel_oth_gap_table[i][0] > 0:\n",
    "            true_highest.append(i)\n",
    "        else :\n",
    "            true_highest.append(\"-\")\n",
    "\n",
    "    # print(true_highest)\n",
    "    # get high and low, and descriptions\n",
    "    if language == \"Japanese\":\n",
    "        widthnumber=33\n",
    "\n",
    "        data = [\n",
    "            [\"あなたが気づいていない強み\",\"どのような能力か\"],\n",
    "            [true_highest[0], textwrap.fill(comp_desc[true_highest[0]], width=widthnumber)],\n",
    "            [true_highest[1], textwrap.fill(comp_desc[true_highest[1]], width=widthnumber)],\n",
    "            [true_highest[2], textwrap.fill(comp_desc[true_highest[2]], width=widthnumber)],\n",
    "            [\"周囲に認識されていないポテンシャル\",\"\"],\n",
    "            [true_lowest[0], \"\"],\n",
    "            [true_lowest[1], \"\"],\n",
    "            [true_lowest[2], \"\"],\n",
    "        ]\n",
    "\n",
    "    table = Table(data, colWidths=(65*mm, 128*mm), rowHeights= (10*mm,8*mm,8*mm,8*mm,10*mm,25*mm,25*mm,25*mm))# size of box\n",
    "    table.setStyle(TableStyle([\n",
    "        ('BOX', (0, 0), (-1, -1), 1, colors.black),\n",
    "        ('FONT', (0, 0), (-1, -1), font, 12),\n",
    "        ('FONT', (0, 4), (0, 4), font, 10),\n",
    "        ('FONT', (1, 5), (1, 7), font, 10),\n",
    "        ('FONT', (1, 1), (1, 3), font, 10),\n",
    "\n",
    "        ('ALIGN', (0, 0), (-1, -1), \"LEFT\"),\n",
    "\n",
    "        ('BACKGROUND', (0, 0), (-1, 0), colors.Color(red=(55.0/255),green=(75.0/255),blue=(143.0/255))),\n",
    "        ('TEXTCOLOR', (0, 0), (-1, 0), colors.white),\n",
    "\n",
    "        ('BACKGROUND', (0, 4), (-1, 4), colors.Color(red=(55.0/255),green=(75.0/255),blue=(143.0/255))),\n",
    "        ('TEXTCOLOR', (0, 4), (-1, 4), colors.white),\n",
    "\n",
    "        ('VALIGN', (0, 0), (-1, -1), \"MIDDLE\"),\n",
    "\n",
    "        ('GRID', (0, 0), (-1, -1), 0.25, colors.black)\n",
    "\n",
    "    ]))\n",
    "\n",
    "\n",
    "    table.wrapOn(pdf_canvas, 10*mm, 1*mm) # adjust position\n",
    "    table.drawOn(pdf_canvas, 10*mm, 1*mm)\n",
    "\n",
    "    if language == \"Japanese\":\n",
    "        widthnumber=39\n",
    "\n",
    "        data = [\n",
    "            [\"どのような能力か\"],\n",
    "            [\"開発のヒント\"],\n",
    "            [textwrap.fill(comp_desc[true_lowest[0]], width=widthnumber)],\n",
    "            [textwrap.fill(comp_dev_dict[true_lowest[0]], width=widthnumber)],\n",
    "            [textwrap.fill(comp_desc[true_lowest[1]], width=widthnumber)],\n",
    "            [textwrap.fill(comp_dev_dict[true_lowest[1]], width=widthnumber)],\n",
    "            [textwrap.fill(comp_desc[true_lowest[2]], width=widthnumber)],\n",
    "            [textwrap.fill(comp_dev_dict[true_lowest[2]], width=widthnumber)],\n",
    "        ]\n",
    "\n",
    "    table = Table(data, colWidths=(128*mm), rowHeights= (5*mm,5*mm,7*mm,18*mm,7*mm,18*mm,7*mm,18*mm,))# size of box\n",
    "    table.setStyle(TableStyle([\n",
    "        ('FONT', (0, 0), (-1, -1), font, 9),\n",
    "        ('ALIGN', (0, 0), (-1, -1), \"LEFT\"),\n",
    "        ('VALIGN', (0, 0), (-1, -1), \"MIDDLE\"),\n",
    "        ('GRID', (0, 0), (-1, -1), 0.25, colors.black),\n",
    "        ('TEXTCOLOR', (0, 0), (0, 1), colors.white),\n",
    "    ]))\n",
    "\n",
    "\n",
    "    table.wrapOn(pdf_canvas, 75*mm, 1*mm) # adjust position\n",
    "    table.drawOn(pdf_canvas, 75*mm, 1*mm)\n",
    "\n",
    "\n",
    "    #セクション4タイトル\n",
    "    data = [\n",
    "        [\"\", \"市場水準比較レーダーチャート\", \"コンピテンシー測定結果と市場水準を比較したレーダーチャートも踏まえ、\\n日頃の行動を見直してみましょう。\"]\n",
    "    ]\n",
    "\n",
    "    table = Table(data, colWidths=(6*mm, 80*mm, 42*mm), rowHeights= (6*mm))# size of box\n",
    "    table.setStyle(TableStyle([\n",
    "        (\"ALIGN\", (0,0), (-1,-1), \"LEFT\"),\n",
    "        ('BOX', (0, 0), (0, -1), 1, colors.Color(red=(102.0/255),green=(102.0/255),blue=(102.0/255))),\n",
    "        ('BACKGROUND', (0, 0), (0, -1), colors.Color(red=(55.0/255),green=(75.0/255),blue=(143.0/255))),\n",
    "        ('FONT', (0, 0), (0, -1), font, 15),\n",
    "        ('TEXTCOLOR', (0, 0), (0, -1), colors.white),\n",
    "        ('FONT', (1, 0), (1, -1), font, 15),\n",
    "        ('TEXTCOLOR', (1, 0), (1, -1), colors.black),\n",
    "\n",
    "        ('FONT', (2, 0), (2, -1), font, 8),#italicにしたい\n",
    "        ('TEXTCOLOR', (2, 0), (2, -1), colors.black),\n",
    "        ('VALIGN', (0, 0), (-1, -1), \"MIDDLE\"),\n",
    "        (\"BACKGROUND\",(1,0),(2,-1),colors.white),\n",
    "    ]))\n",
    "    table.wrapOn(pdf_canvas, 210*mm, 264*mm)\n",
    "    table.drawOn(pdf_canvas, 210*mm, 264*mm)\n",
    "\n",
    "    # if (row[\"グレード\"]==\"ZLD1\") | (row[\"グレード\"]==\"ZEX1\") | (row[\"グレード\"]==\"ZLD2\") | (row[\"グレード\"]==\"ZEX2\") | (row[\"グレード\"]==\"ZLD3\") | (row[\"グレード\"]==\"ZEX3\"):\n",
    "    #     pdf_canvas.drawInlineImage(f\"materials/基準値比較レーダーチャート/{ID}_基準値比較.png\",250*mm, 140*mm,width=150*mm, height=120*mm)\n",
    "    # else:\n",
    "    #     pdf_canvas.drawInlineImage(f\"materials/基準値比較レーダーチャート/{ID}_基準値比較.png\",250*mm, 140*mm,width=140*mm, height=120*mm)\n",
    "    \n",
    "    pdf_canvas.drawInlineImage(f\"materials/基準値比較レーダーチャート/{ID}_基準値比較.png\",250*mm, 140*mm,width=135*mm, height=120*mm)\n",
    "\n",
    "\n",
    "    #セクション5タイトル\n",
    "    data = [\n",
    "        [\"\", \"自己測定比較レーダーチャート\", \"コンピテンシー測定結果と自己測定を比較したレーダーチャートも踏まえ、\\n日頃の行動を見直してみましょう。\"]\n",
    "    ]\n",
    "\n",
    "    table = Table(data, colWidths=(6*mm, 80*mm, 42*mm), rowHeights= (6*mm))# size of box\n",
    "    table.setStyle(TableStyle([\n",
    "        (\"ALIGN\", (0,0), (-1,-1), \"LEFT\"),\n",
    "        ('BOX', (0, 0), (0, -1), 1, colors.Color(red=(102.0/255),green=(102.0/255),blue=(102.0/255))),\n",
    "        ('BACKGROUND', (0, 0), (0, -1), colors.Color(red=(55.0/255),green=(75.0/255),blue=(143.0/255))),\n",
    "        ('FONT', (0, 0), (0, -1), font, 15),\n",
    "        ('TEXTCOLOR', (0, 0), (0, -1), colors.white),\n",
    "        ('FONT', (1, 0), (1, -1), font, 15),\n",
    "        ('TEXTCOLOR', (1, 0), (1, -1), colors.black),\n",
    "\n",
    "        ('FONT', (2, 0), (2, -1), font, 8),#italicにしたい\n",
    "        ('TEXTCOLOR', (2, 0), (2, -1), colors.black),\n",
    "        ('VALIGN', (0, 0), (-1, -1), \"MIDDLE\"),\n",
    "        (\"BACKGROUND\",(1,0),(2,-1),colors.white),\n",
    "    ]))\n",
    "    table.wrapOn(pdf_canvas, 210*mm, 125*mm)\n",
    "    table.drawOn(pdf_canvas, 210*mm, 125*mm)\n",
    "\n",
    "    pdf_canvas.drawInlineImage(f\"materials/自己他者比較レーダーチャート/{ID}_自己他者比較.png\",250*mm, 1*mm,width=135*mm, height=120*mm)\n",
    "\n",
    "\n",
    "\n",
    "    pdf_canvas.showPage()\n",
    "    "
   ]
  },
  {
   "cell_type": "code",
   "execution_count": 20,
   "id": "3e9bc7b8-ae0c-439d-a96a-5b4e43f613d9",
   "metadata": {},
   "outputs": [],
   "source": [
    "# from reportlab.pdfbase import pdfmetrics\n",
    "# from reportlab.pdfbase.cidfonts import UnicodeCIDFont\n",
    "# # フォント登録\n",
    "# pdfmetrics.registerFont(UnicodeCIDFont(\"HeiseiKakuGo-W5\"))"
   ]
  },
  {
   "cell_type": "code",
   "execution_count": 21,
   "id": "6011f539-7b03-4dac-b213-2b8ab8e39dd0",
   "metadata": {
    "id": "7357f7cd-39aa-4075-8547-068654a60c0c",
    "tags": []
   },
   "outputs": [
    {
     "data": {
      "application/vnd.jupyter.widget-view+json": {
       "model_id": "36139faf3b5f43be908efc31d74a1cfa",
       "version_major": 2,
       "version_minor": 0
      },
      "text/plain": [
       "  0%|          | 0/5 [00:00<?, ?it/s]"
      ]
     },
     "metadata": {},
     "output_type": "display_data"
    }
   ],
   "source": [
    "make_page3(meitestsu_dat.head(),cn=meitetsu_cn)"
   ]
  },
  {
   "cell_type": "markdown",
   "id": "62f2fa0f-f81e-4559-9403-f55307ab545e",
   "metadata": {},
   "source": [
    "### 画像処理"
   ]
  },
  {
   "cell_type": "code",
   "execution_count": 22,
   "id": "d82a95c3-1381-4b30-a039-b0be257691ae",
   "metadata": {},
   "outputs": [],
   "source": [
    "import os\n",
    "import fitz  # PyMuPDFをインポート\n",
    "from PIL import Image  # Pillowをインポート\n",
    "\n",
    "def convert_pdf_to_image(pdf_path, output_dir, desired_width_mm, desired_height_mm, dpi=300):\n",
    "    # 出力ディレクトリが存在しない場合は作成\n",
    "    os.makedirs(output_dir, exist_ok=True)\n",
    "\n",
    "    # PDFファイルを開く\n",
    "    doc = fitz.open(pdf_path)\n",
    "\n",
    "    # 物理サイズからピクセル数を計算\n",
    "    width_px = int((desired_width_mm / 25.4) * dpi)\n",
    "    height_px = int((desired_height_mm / 25.4) * dpi)\n",
    "\n",
    "    for page_number in range(len(doc)):\n",
    "        page = doc.load_page(page_number)\n",
    "\n",
    "        rect = page.rect\n",
    "        width_pt = rect.width\n",
    "        height_pt = rect.height\n",
    "\n",
    "        # ズーム倍率を計算\n",
    "        zoom_x = width_px / width_pt\n",
    "        zoom_y = height_px / height_pt\n",
    "\n",
    "        matrix = fitz.Matrix(zoom_x, zoom_y)\n",
    "        pix = page.get_pixmap(matrix=matrix, alpha=False)\n",
    "\n",
    "        img = Image.frombytes(\"RGB\", [pix.width, pix.height], pix.samples)\n",
    "\n",
    "        # 画像の保存パスを作成\n",
    "        image_name = f'{os.path.splitext(os.path.basename(pdf_path))[0]}_page_{page_number + 1}.png'\n",
    "        image_path = os.path.join(output_dir, image_name)\n",
    "        img.save(image_path, dpi=(dpi, dpi))\n",
    "\n",
    "    \n",
    "\n",
    "# # 複数のPDFファイルを処理する例\n",
    "# pdf_dir = 'path/to/pdf_directory'  # PDFファイルが保存されているディレクトリ\n",
    "# output_dir = 'path/to/output_directory'  # 画像を保存するディレクトリ\n",
    "\n",
    "# desired_width_mm = 420 * 0.8  # 幅をA3の0.8倍に設定\n",
    "# desired_height_mm = 247 * 0.8  # 高さをA3の0.8倍に設定\n",
    "# dpi = 300  # 解像度を300 DPIに設定\n",
    "\n",
    "# # PDFディレクトリ内のすべてのPDFファイルを処理\n",
    "# for filename in os.listdir(pdf_dir):\n",
    "#     if filename.lower().endswith('.pdf'):\n",
    "#         pdf_path = os.path.join(pdf_dir, filename)\n",
    "#         convert_pdf_to_image(pdf_path, output_dir, desired_width_mm, desired_height_mm, dpi)\n",
    "\n"
   ]
  },
  {
   "cell_type": "code",
   "execution_count": 23,
   "id": "56efec9e-3e6c-4987-9357-1c2daf98247f",
   "metadata": {},
   "outputs": [
    {
     "data": {
      "application/vnd.jupyter.widget-view+json": {
       "model_id": "c1be0b05b9e34d9794ab8198bbe3b367",
       "version_major": 2,
       "version_minor": 0
      },
      "text/plain": [
       "  0%|          | 0/5 [00:00<?, ?it/s]"
      ]
     },
     "metadata": {},
     "output_type": "display_data"
    }
   ],
   "source": [
    "\n",
    "\n",
    "# 書き換えテスト\n",
    "pdf_dir = 'workspace/page3'  # PDFファイルが保存されているディレクトリ\n",
    "output_dir = 'workspace/page3_jpeg'  # 画像を保存するディレクトリ\n",
    "\n",
    "desired_width_mm = 420 * 0.8  # 幅をA3の0.8倍に設定\n",
    "desired_height_mm = 247 * 0.8  # 高さをA3の0.8倍に設定\n",
    "dpi = 300  # 解像度を300 DPIに設定\n",
    "\n",
    "# PDFディレクトリ内のすべてのPDFファイルを処理\n",
    "for filename in tqdm(os.listdir(pdf_dir)):\n",
    "    if filename.lower().endswith('.pdf'):\n",
    "        pdf_path = os.path.join(pdf_dir, filename)\n",
    "        convert_pdf_to_image(pdf_path, output_dir, desired_width_mm, desired_height_mm, dpi)\n",
    "\n"
   ]
  },
  {
   "cell_type": "code",
   "execution_count": 24,
   "id": "a5063d0b-5193-4847-be29-48cc8572627b",
   "metadata": {},
   "outputs": [],
   "source": [
    "# 画像パス\n",
    "meitestsu_dat[\"画像パス\"] = \"workspace/page3_jpeg/\" +meitestsu_dat[\"Evaluatee Flag ID\"] +\"_page3_page_1.png\"\n"
   ]
  },
  {
   "cell_type": "markdown",
   "id": "1b005063-edfa-45a6-8fdb-3cbb02b3d31d",
   "metadata": {},
   "source": [
    "### Excel処理"
   ]
  },
  {
   "cell_type": "code",
   "execution_count": null,
   "id": "b4dfff82-f302-470b-8412-aac25b63befa",
   "metadata": {},
   "outputs": [],
   "source": []
  },
  {
   "cell_type": "code",
   "execution_count": 25,
   "id": "e8297d59-8aa3-4d84-9818-2f92cbac60d7",
   "metadata": {},
   "outputs": [
    {
     "data": {
      "application/vnd.jupyter.widget-view+json": {
       "model_id": "81e8c7f31a734279a2355456de7a7778",
       "version_major": 2,
       "version_minor": 0
      },
      "text/plain": [
       "0it [00:00, ?it/s]"
      ]
     },
     "metadata": {},
     "output_type": "display_data"
    }
   ],
   "source": [
    "\n",
    "\n",
    "# ループでコピー元を作る\n",
    "# 出力ディレクトリが存在しない場合は作成\n",
    "os.makedirs(\"workspace/Excel_p3\", exist_ok=True)\n",
    "\n",
    "for i,data in tqdm(meitestsu_dat.iterrows()):\n",
    "    F_id = data[\"Evaluatee Flag ID\"]\n",
    "    name = data[\"氏名\"]\n",
    "    C_id = data[\"社員番号\"]\n",
    "    dept = data[\"所属\"]\n",
    "    grade = data[\"役職分類\\n(社内)\"]\n",
    "    shutil.copy(f'workspace/【名鉄】カスタマイズレポート_Excel調整_最終_望月編集_p3.xlsx',f'workspace/Excel_p3/{F_id}_p3.xlsx')"
   ]
  },
  {
   "cell_type": "code",
   "execution_count": 26,
   "id": "65342c2e-2080-41c5-a664-dbc93606df21",
   "metadata": {},
   "outputs": [],
   "source": [
    "# コピーしたものに記入&画像貼り付け\n",
    "\n",
    "\n",
    "\n",
    "def excel_creation_p3(comp_df,image_path_column,image_width=None, image_height=None):\n",
    "    # 出力ディレクトリが存在しない場合は作成\n",
    "    os.makedirs(\"workspace/page3_個人Excel\", exist_ok=True)\n",
    "\n",
    "    # 該当IDのExcelファイルを開く\n",
    "    for i,data in tqdm(comp_df.iterrows()):\n",
    "        F_id = data[\"Evaluatee Flag ID\"]\n",
    "        name = data[\"氏名\"]\n",
    "        C_id = data[\"社員番号\"]\n",
    "        dept = data[\"所属\"]\n",
    "        grade = data[\"役職分類\\n(社内)\"]\n",
    "        image_path = data[image_path_column]  \n",
    "        # 長いやつ折り返しテスト\n",
    "        if dept == \"名鉄グループバスホールディングス\":\n",
    "            dept = \"名鉄グループバス\\nホールディングス\"\n",
    "\n",
    "        # Excel指定\n",
    "        wb = openpyxl.load_workbook(f\"workspace/Excel_p3/{F_id}_p3.xlsx\")\n",
    "        # シートを選択する\n",
    "        sheet1 = wb['P3 個人結果チャート']\n",
    "\n",
    "        # 基本情報\n",
    "        sheet1[\"C5\"] = name\n",
    "        sheet1[\"G5\"] = C_id\n",
    "        sheet1[\"K5\"] = dept\n",
    "        sheet1[\"O5\"] = grade\n",
    "        \n",
    "        # 画像を貼り付ける\n",
    "        if image_path:  # 画像パスが存在する場合のみ\n",
    "            img = open_Image(image_path)\n",
    "\n",
    "            # サイズの調整\n",
    "            if image_width:\n",
    "                img.width = image_width\n",
    "            if image_height:\n",
    "                img.height = image_height\n",
    "\n",
    "            # 画像の貼り付け位置を指定\n",
    "            img.anchor = \"C8\"  # 画像を貼り付けるセル（調整可能）\n",
    "            sheet1.add_image(img)\n",
    "\n",
    "        \n",
    "\n",
    "        # Excelファイルを保存する\n",
    "        wb.save(f'workspace/page3_個人Excel/{F_id}_p3.xlsx')"
   ]
  },
  {
   "cell_type": "code",
   "execution_count": 27,
   "id": "71b39fc3-9f20-4b80-b5eb-e68289c3a248",
   "metadata": {},
   "outputs": [
    {
     "data": {
      "application/vnd.jupyter.widget-view+json": {
       "model_id": "23c92a55efdd40ffb577765591c5cfa8",
       "version_major": 2,
       "version_minor": 0
      },
      "text/plain": [
       "0it [00:00, ?it/s]"
      ]
     },
     "metadata": {},
     "output_type": "display_data"
    }
   ],
   "source": [
    "excel_creation_p3(meitestsu_dat.head(),\"画像パス\",image_width=1276.5708, image_height=788\n",
    ")"
   ]
  },
  {
   "cell_type": "markdown",
   "id": "415b83bd-fd0c-4286-bcc2-28a7c2fc5ff0",
   "metadata": {
    "editable": true,
    "id": "16b8091e-1e00-4851-8000-3eb17a9b4f14",
    "slideshow": {
     "slide_type": ""
    },
    "tags": []
   },
   "source": [
    "## page2"
   ]
  },
  {
   "cell_type": "code",
   "execution_count": 28,
   "id": "e9f224d0-de9e-4d20-abd6-3de8178aea2c",
   "metadata": {},
   "outputs": [
    {
     "data": {
      "application/vnd.jupyter.widget-view+json": {
       "model_id": "fb73f4f73cc94f418f416343e2600bc2",
       "version_major": 2,
       "version_minor": 0
      },
      "text/plain": [
       "0it [00:00, ?it/s]"
      ]
     },
     "metadata": {},
     "output_type": "display_data"
    }
   ],
   "source": [
    "# ループでコピー元を作る\n",
    "# 出力ディレクトリが存在しない場合は作成\n",
    "os.makedirs(\"workspace/Excel_p2\", exist_ok=True)\n",
    "\n",
    "for i,data in tqdm(meitestsu_dat.iterrows()):\n",
    "    F_id = data[\"Evaluatee Flag ID\"]\n",
    "    name = data[\"氏名\"]\n",
    "    C_id = data[\"社員番号\"]\n",
    "    dept = data[\"所属\"]\n",
    "    grade = data[\"役職分類\\n(社内)\"]\n",
    "    shutil.copy(f'workspace/【名鉄】カスタマイズレポート_Excel調整_最終_望月編集_p2.xlsx',f'workspace/Excel_p2/{F_id}_p2.xlsx')"
   ]
  },
  {
   "cell_type": "code",
   "execution_count": 29,
   "id": "8b2de539-f874-4a60-a0f4-e2827564fdb9",
   "metadata": {},
   "outputs": [],
   "source": [
    "# コピーしたものに記入&画像貼り付け\n",
    "\n",
    "import openpyxl\n",
    "from openpyxl.drawing.image import Image as open_Image\n",
    "from openpyxl.styles import PatternFill\n",
    "\n",
    "\n",
    "def excel_creation_p2(comp_df):\n",
    "    # 出力ディレクトリが存在しない場合は作成\n",
    "    os.makedirs(\"workspace/page2_個人Excel\", exist_ok=True)\n",
    "    # 該当IDのExcelファイルを開く\n",
    "    for i,data in tqdm(comp_df.iterrows()):\n",
    "        F_id = data[\"Evaluatee Flag ID\"]\n",
    "        name = data[\"氏名\"]\n",
    "        C_id = data[\"社員番号\"]\n",
    "        dept = data[\"所属\"]\n",
    "        grade = data[\"役職分類\\n(社内)\"]\n",
    "        grade_IGS = data[\"grade_IGS調整\"]\n",
    "\n",
    "        # 長いやつ折り返しテスト\n",
    "        if dept == \"名鉄グループバスホールディングス\":\n",
    "            dept = \"名鉄グループバス\\nホールディングス\"\n",
    "\n",
    "\n",
    "        # Excel指定\n",
    "        wb = openpyxl.load_workbook(f\"workspace/Excel_p2/{F_id}_p2.xlsx\")\n",
    "        # シートを選択する\n",
    "        sheet1 = wb['P2 個人結果スコア']\n",
    "\n",
    "        # 基本情報\n",
    "        sheet1[\"C5\"] = name\n",
    "        sheet1[\"G5\"] = C_id\n",
    "        sheet1[\"K5\"] = dept\n",
    "        sheet1[\"O5\"] = grade\n",
    "\n",
    "        # スコア\n",
    "        for comp in range(len(meitetsu_cn)):\n",
    "            sheet1[f\"K{comp*2+11}\"] = int(round(data[meitetsu_cn[comp]],0))\n",
    "\n",
    "        # gradeごとだしわけ\n",
    "        sheet1[\"N10\"] = grade_IGS\n",
    "        # diff_list = []\n",
    "        for comp in range(len(meitetsu_cn)):\n",
    "            sheet1[f\"N{comp*2+11}\"] = int(round(grade_median_table.loc[grade_IGS,meitetsu_cn[comp]],0))\n",
    "            if int(round(data[meitetsu_cn[comp]],0)) > int(round(grade_median_table.loc[grade_IGS,meitetsu_cn[comp]],0)):\n",
    "                sheet1[f\"O{comp*2+11}\"] = \"↑\"\n",
    "                sheet1[f\"O{comp*2+11}\"].fill = PatternFill(start_color=\"BFFFBF\", end_color=\"BFFFBF\", fill_type=\"solid\")\n",
    "\n",
    "            elif int(round(data[meitetsu_cn[comp]],0)) < int(round(grade_median_table.loc[grade_IGS,meitetsu_cn[comp]],0)):\n",
    "                sheet1[f\"O{comp*2+11}\"] = \"↓\"\n",
    "                sheet1[f\"O{comp*2+11}\"].fill = PatternFill(start_color=\"FFBFBF\", end_color=\"FFBFBF\", fill_type=\"solid\")\n",
    "                \n",
    "            else:\n",
    "                sheet1[f\"O{comp*2+11}\"] = \"-\"\n",
    "                sheet1[f\"O{comp*2+11}\"].fill = PatternFill(start_color=\"C0C0C0\", end_color=\"C0C0C0\", fill_type=\"solid\")\n",
    "\n",
    "        # gradeごとだしわけ_bench\n",
    "        grade_bench_table = compare_bench_dict[grade_IGS]\n",
    "        sheet1[\"P10\"] = grade_IGS\n",
    "        # diff_list = []\n",
    "        for comp in range(len(meitetsu_cn)):\n",
    "            sheet1[f\"P{comp*2+11}\"] = int(round(grade_bench_table.loc[\"中央閾値\",meitetsu_cn[comp]],0))\n",
    "            if int(round(data[meitetsu_cn[comp]],0)) > int(round(grade_bench_table.loc[\"中央閾値\",meitetsu_cn[comp]],0)):\n",
    "                sheet1[f\"Q{comp*2+11}\"] = \"↑\"\n",
    "                sheet1[f\"Q{comp*2+11}\"].fill = PatternFill(start_color=\"BFFFBF\", end_color=\"BFFFBF\", fill_type=\"solid\")\n",
    "\n",
    "            elif int(round(data[meitetsu_cn[comp]],0)) < int(round(grade_bench_table.loc[\"中央閾値\",meitetsu_cn[comp]],0)):\n",
    "                sheet1[f\"Q{comp*2+11}\"] = \"↓\"\n",
    "                sheet1[f\"Q{comp*2+11}\"].fill = PatternFill(start_color=\"FFBFBF\", end_color=\"FFBFBF\", fill_type=\"solid\")\n",
    "                \n",
    "            else:\n",
    "                sheet1[f\"Q{comp*2+11}\"] = \"-\"\n",
    "                sheet1[f\"Q{comp*2+11}\"].fill = PatternFill(start_color=\"C0C0C0\", end_color=\"C0C0C0\", fill_type=\"solid\")\n",
    "\n",
    "            \n",
    "\n",
    "        # Excelファイルを保存する\n",
    "        wb.save(f'workspace/page2_個人Excel/{F_id}_p2.xlsx')"
   ]
  },
  {
   "cell_type": "code",
   "execution_count": 30,
   "id": "82001d68-a8d5-4dda-acf0-530341059f45",
   "metadata": {},
   "outputs": [
    {
     "data": {
      "application/vnd.jupyter.widget-view+json": {
       "model_id": "ad6e6b5acb5f4957b05169a281ea6bac",
       "version_major": 2,
       "version_minor": 0
      },
      "text/plain": [
       "0it [00:00, ?it/s]"
      ]
     },
     "metadata": {},
     "output_type": "display_data"
    }
   ],
   "source": [
    "excel_creation_p2(meitestsu_dat.head())"
   ]
  },
  {
   "cell_type": "markdown",
   "id": "5f4bc20c-6ed1-4bed-bb5d-6025d86e3b16",
   "metadata": {},
   "source": [
    "# Excel_to_PDF がうまくいかないので別対応"
   ]
  },
  {
   "cell_type": "markdown",
   "id": "62294127-9cb6-498c-94b8-321e2d39dcaf",
   "metadata": {},
   "source": [
    "- LibreOffice使うのが良さそう\n",
    "- 現状Desktopのローカル対応\n",
    "- 画像貼り付けずれるので要注意"
   ]
  },
  {
   "cell_type": "code",
   "execution_count": 31,
   "id": "52d74607-9de7-4aa0-966b-b43ff44ab370",
   "metadata": {},
   "outputs": [],
   "source": [
    "# Libre出力用フォルダの作成\n",
    "os.makedirs(\"workspace/page2_PDFver\", exist_ok=True)\n",
    "os.makedirs(\"workspace/page3_PDFver\", exist_ok=True)\n"
   ]
  },
  {
   "cell_type": "markdown",
   "id": "fdce367a-16d6-45b5-8187-dce16141f304",
   "metadata": {},
   "source": [
    "1. スクリプトファイルを任意の場所に保存（例：`workspace/convert_excel_to_pdf.sh`）\n",
    "2. 実行権限を付与  \n",
    "   ```bash\n",
    "   chmod +x convert_excel_to_pdf.sh\n",
    "   ```\n",
    "3. スクリプト内の以下3つの変数を自分の環境に合わせて修正\n",
    "- INPUT_DIR：Excelファイルがあるフォルダパス\n",
    "- OUTPUT_DIR：PDFを出力したいフォルダパス\n",
    "- LIBREOFFICE_PATH：LibreOffice実行ファイル（Macの場合は /Applications/.../soffice）\n",
    "\n",
    "4. 実行\n",
    "```bash\n",
    "./convert_excel_to_pdf.sh\n",
    "```"
   ]
  },
  {
   "cell_type": "markdown",
   "id": "071d94c1-8138-4ecf-aa9f-efce761077b5",
   "metadata": {},
   "source": [
    "## うまくできてないデータ抽出"
   ]
  },
  {
   "cell_type": "code",
   "execution_count": 34,
   "id": "45d74322-9a13-4e72-b94f-ac34ba1c0ef1",
   "metadata": {},
   "outputs": [
    {
     "data": {
      "text/plain": [
       "'Flag == 1 のファイルをコピーしました。'"
      ]
     },
     "execution_count": 34,
     "metadata": {},
     "output_type": "execute_result"
    }
   ],
   "source": [
    "# Page2\n",
    "# Specify the folder path\n",
    "folder_path = \"workspace/page2_PDFver\"\n",
    "\n",
    "# Get the list of files and their sizes\n",
    "file_list_p2 = pd.DataFrame()\n",
    "for file_name in os.listdir(folder_path):\n",
    "    file_path = os.path.join(folder_path, file_name)\n",
    "    if os.path.isfile(file_path):\n",
    "        file_size = os.path.getsize(file_path)\n",
    "        file_list_p2 = pd.concat([file_list_p2,pd.DataFrame([[file_name,file_size]])])\n",
    "\n",
    "file_list_p2.columns = [\"name\",\"size\"]\n",
    "\n",
    "ID_list = []\n",
    "for i in file_list_p2[\"name\"]:\n",
    "    ID_list.append(i[:9])\n",
    "file_list_p2[\"Evaluatee Flag ID\"] = ID_list\n",
    "\n",
    "# set_check\n",
    "target_list_p2 = list(set(file_list_p2[\"Evaluatee Flag ID\"]) ^ set(meitestsu_dat[\"Evaluatee Flag ID\"]))\n",
    "\n",
    "folder_path = \"workspace/page2_個人Excel\"\n",
    "excel_p2_list = os.listdir(folder_path)\n",
    "\n",
    "excel_dat_p2 = pd.DataFrame(excel_p2_list,columns=[\"name\"])\n",
    "ID_list = []\n",
    "for i in excel_dat_p2[\"name\"]:\n",
    "    ID_list.append(i[:9])\n",
    "excel_dat_p2[\"Evaluatee Flag ID\"] = ID_list\n",
    "\n",
    "excel_dat_p2[\"Flag\"] = excel_dat_p2[\"Evaluatee Flag ID\"].apply(lambda x: 1 if x in target_list_p2 else 0)\n",
    "\n",
    "\n",
    "# コピー元とコピー先のフォルダ\n",
    "source_folder = \"workspace/page2_個人Excel\"\n",
    "destination_folder = \"workspace/re_make/page2_個人Excel\"\n",
    "\n",
    "# コピー先フォルダを作成（存在しない場合）\n",
    "os.makedirs(destination_folder, exist_ok=True)\n",
    "\n",
    "# Flagが1のファイルだけをコピー\n",
    "for index, row in excel_dat_p2.iterrows():\n",
    "    if row[\"Flag\"] == 1:\n",
    "        source_path = os.path.join(source_folder, row[\"name\"])\n",
    "        destination_path = os.path.join(destination_folder, row[\"name\"])\n",
    "        if os.path.exists(source_path):\n",
    "            shutil.copy(source_path, destination_path)\n",
    "\n",
    "\"Flag == 1 のファイルをコピーしました。\""
   ]
  },
  {
   "cell_type": "code",
   "execution_count": 35,
   "id": "a4246046-b458-4161-bfdf-4b82b4e3059a",
   "metadata": {},
   "outputs": [
    {
     "data": {
      "text/plain": [
       "'Flag == 1 のファイルをコピーしました。'"
      ]
     },
     "execution_count": 35,
     "metadata": {},
     "output_type": "execute_result"
    }
   ],
   "source": [
    "# Page3\n",
    "# Specify the folder path\n",
    "folder_path = \"workspace/page3_PDFver\"\n",
    "\n",
    "# Get the list of files and their sizes\n",
    "file_list_p3 = pd.DataFrame()\n",
    "for file_name in os.listdir(folder_path):\n",
    "    file_path = os.path.join(folder_path, file_name)\n",
    "    if os.path.isfile(file_path):\n",
    "        file_size = os.path.getsize(file_path)\n",
    "        file_list_p3 = pd.concat([file_list_p3,pd.DataFrame([[file_name,file_size]])])\n",
    "\n",
    "file_list_p3.columns = [\"name\",\"size\"]\n",
    "\n",
    "ID_list = []\n",
    "for i in file_list_p3[\"name\"]:\n",
    "    ID_list.append(i[:9])\n",
    "file_list_p3[\"Evaluatee Flag ID\"] = ID_list\n",
    "\n",
    "# set_check\n",
    "target_list_p3 = list(set(file_list_p3[\"Evaluatee Flag ID\"]) ^ set(meitestsu_dat[\"Evaluatee Flag ID\"]))\n",
    "\n",
    "folder_path = \"workspace/page3_個人Excel\"\n",
    "excel_p3_list = os.listdir(folder_path)\n",
    "\n",
    "excel_dat_p3 = pd.DataFrame(excel_p3_list,columns=[\"name\"])\n",
    "ID_list = []\n",
    "for i in excel_dat_p3[\"name\"]:\n",
    "    ID_list.append(i[:9])\n",
    "excel_dat_p3[\"Evaluatee Flag ID\"] = ID_list\n",
    "\n",
    "excel_dat_p3[\"Flag\"] = excel_dat_p3[\"Evaluatee Flag ID\"].apply(lambda x: 1 if x in target_list_p3 else 0)\n",
    "\n",
    "\n",
    "# コピー元とコピー先のフォルダ\n",
    "source_folder = \"workspace/page3_個人Excel\"\n",
    "destination_folder = \"workspace/re_make/page3_個人Excel\"\n",
    "\n",
    "# コピー先フォルダを作成（存在しない場合）\n",
    "os.makedirs(destination_folder, exist_ok=True)\n",
    "\n",
    "# Flagが1のファイルだけをコピー\n",
    "for index, row in excel_dat_p3.iterrows():\n",
    "    if row[\"Flag\"] == 1:\n",
    "        source_path = os.path.join(source_folder, row[\"name\"])\n",
    "        destination_path = os.path.join(destination_folder, row[\"name\"])\n",
    "        if os.path.exists(source_path):\n",
    "            shutil.copy(source_path, destination_path)\n",
    "\n",
    "\"Flag == 1 のファイルをコピーしました。\""
   ]
  },
  {
   "cell_type": "code",
   "execution_count": null,
   "id": "dd9da84a-12e4-4cd6-9119-1fc79f4e33e1",
   "metadata": {},
   "outputs": [],
   "source": []
  },
  {
   "cell_type": "code",
   "execution_count": null,
   "id": "6dcd58ba-bcbd-410a-a3cc-2767686e7262",
   "metadata": {},
   "outputs": [],
   "source": []
  },
  {
   "cell_type": "code",
   "execution_count": null,
   "id": "086871ba-ab1b-4c99-b404-b6a0af563632",
   "metadata": {},
   "outputs": [],
   "source": []
  },
  {
   "cell_type": "code",
   "execution_count": null,
   "id": "42d5adf9-4b77-461c-954f-9d7c4b59b6e7",
   "metadata": {},
   "outputs": [],
   "source": []
  },
  {
   "cell_type": "markdown",
   "id": "17b9984f-f40e-42dd-a7db-cfde6c163077",
   "metadata": {},
   "source": [
    "# concat"
   ]
  },
  {
   "cell_type": "code",
   "execution_count": 36,
   "id": "9495d053-7401-427e-9eba-9485e01a325f",
   "metadata": {
    "id": "ad160408-ff06-476d-a8be-15e60a1f6a96",
    "tags": []
   },
   "outputs": [],
   "source": [
    "def pdf_merge(df):\n",
    "    os.makedirs(\"deliverables/all_report/\", exist_ok=True)\n",
    "\n",
    "    for index, data in tqdm(df.iterrows(), total=len(df)):\n",
    "        ID = data[\"Evaluatee Flag ID\"]\n",
    "        name = data[\"氏名\"]\n",
    "        C_id = data[\"社員番号\"]\n",
    "        dept = data[\"所属\"]\n",
    "        grade = data[\"役職分類\\n(社内)\"]\n",
    "        grade_IGS = data[\"grade_IGS調整\"]\n",
    "\n",
    "        # ✅ PdfMerger を使用\n",
    "        merger = PdfMerger()\n",
    "\n",
    "        # 各ページを順番に追加\n",
    "        merger.append(\"workspace/1217_P1【名鉄】カスタマイズレポート_Excel調整_最終.pdf\")  # 共通P1\n",
    "        merger.append(f\"workspace/page2_PDFver/{ID}_p2.pdf\")\n",
    "        merger.append(f\"workspace/page3_PDFver/{ID}_p3.pdf\")\n",
    "        merger.append(\"workspace/1217_P4【名鉄】カスタマイズレポート_Excel調整_最終.pdf\")  # 共通P4\n",
    "\n",
    "        # 出力ファイルパスを指定して保存\n",
    "        output_path = f\"deliverables/all_report/{dept}_{C_id}_{name}_GROW‐feedback-report2024.pdf\"\n",
    "        merger.write(output_path)\n",
    "        merger.close()\n"
   ]
  },
  {
   "cell_type": "code",
   "execution_count": 37,
   "id": "da03b6a0-d3a3-4f8f-a7e6-8babb9ac7ab0",
   "metadata": {
    "colab": {
     "referenced_widgets": [
      "6550710af0db4361b3e30a2b91d67bba"
     ]
    },
    "id": "bafc922f-c907-4e24-9ee0-5851a0d3ebab",
    "outputId": "5642d067-97ce-4803-f941-23c084addde6",
    "tags": []
   },
   "outputs": [
    {
     "data": {
      "application/vnd.jupyter.widget-view+json": {
       "model_id": "ea740301abd64033bfe08a317f19180c",
       "version_major": 2,
       "version_minor": 0
      },
      "text/plain": [
       "  0%|          | 0/5 [00:00<?, ?it/s]"
      ]
     },
     "metadata": {},
     "output_type": "display_data"
    }
   ],
   "source": [
    "pdf_merge(meitestsu_dat.head())"
   ]
  },
  {
   "cell_type": "code",
   "execution_count": null,
   "id": "6e79f68d-50ac-4819-ad42-671df0e91d57",
   "metadata": {},
   "outputs": [],
   "source": []
  },
  {
   "cell_type": "code",
   "execution_count": null,
   "id": "e909f0aa-7b4e-4235-8133-f295f748ccb8",
   "metadata": {},
   "outputs": [],
   "source": []
  },
  {
   "cell_type": "code",
   "execution_count": null,
   "id": "8231a454-d80e-45af-abf5-a3699b4d1695",
   "metadata": {},
   "outputs": [],
   "source": []
  },
  {
   "cell_type": "code",
   "execution_count": null,
   "id": "510a1ae0-4712-4d11-9b6d-95c47435541a",
   "metadata": {},
   "outputs": [],
   "source": []
  }
 ],
 "metadata": {
  "kernelspec": {
   "display_name": "Python 3 (ipykernel)",
   "language": "python",
   "name": "python3"
  },
  "language_info": {
   "codemirror_mode": {
    "name": "ipython",
    "version": 3
   },
   "file_extension": ".py",
   "mimetype": "text/x-python",
   "name": "python",
   "nbconvert_exporter": "python",
   "pygments_lexer": "ipython3",
   "version": "3.12.10"
  }
 },
 "nbformat": 4,
 "nbformat_minor": 5
}
